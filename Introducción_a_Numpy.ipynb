{
  "nbformat": 4,
  "nbformat_minor": 0,
  "metadata": {
    "colab": {
      "name": "Introducción a Numpy.ipynb",
      "provenance": [],
      "collapsed_sections": [
        "gEHuKisOgkMX",
        "ThlEUE6HjWP6",
        "gFdhMri6kBe7",
        "ZAyqn69vkNoL",
        "kd0ZpHbue-zZ",
        "f-JBNDlZgpFy",
        "c8xJymzGhj_b",
        "YUDro6V4hz1J",
        "Rb_BXkS7jAu2",
        "2TFMLUUtjM1x",
        "gHGwI95aldBt",
        "RC9sdSjjnbib",
        "oVPPBZ0xoIhh",
        "AG_GBgxsoch8",
        "xCW_Os3_pVss",
        "_BQDRMvfp9JJ",
        "ik6x_reTJT__",
        "SepRRfMEJk8Z",
        "-bi9wyx9J5OH",
        "FktbgmukJ-fb",
        "uIUUL2VXK9it",
        "L1fZuxZRLfJz",
        "1_tS5ZU4LuiY",
        "tkN97vRRMVuM",
        "SNQaKMYPMxdo",
        "hUrgB2ppM4IH",
        "6phL8MqRNSg_",
        "WzqKM0xiNqb4",
        "IguWdHmPWqiv",
        "ss_7ySOCW6K3",
        "S5NuaH5TXHey",
        "x09xItoSXaI0",
        "SNNudvd1XsQI"
      ],
      "include_colab_link": true
    },
    "kernelspec": {
      "name": "python3",
      "display_name": "Python 3"
    }
  },
  "cells": [
    {
      "cell_type": "markdown",
      "metadata": {
        "id": "view-in-github",
        "colab_type": "text"
      },
      "source": [
        "<a href=\"https://colab.research.google.com/github/htapiagroup/introduccion-a-numpy-JosueJuarez/blob/master/Introducci%C3%B3n_a_Numpy.ipynb\" target=\"_parent\"><img src=\"https://colab.research.google.com/assets/colab-badge.svg\" alt=\"Open In Colab\"/></a>"
      ]
    },
    {
      "cell_type": "markdown",
      "metadata": {
        "id": "OC6x_IEugXSa",
        "colab_type": "text"
      },
      "source": [
        "#Introducción a Numpy\n",
        "##Josué Juárez Morales\n",
        "-----"
      ]
    },
    {
      "cell_type": "code",
      "metadata": {
        "id": "iS74JKNaioIu",
        "colab_type": "code",
        "colab": {}
      },
      "source": [
        "import numpy as np"
      ],
      "execution_count": 0,
      "outputs": []
    },
    {
      "cell_type": "markdown",
      "metadata": {
        "id": "gEHuKisOgkMX",
        "colab_type": "text"
      },
      "source": [
        "#01.01 Tipos de datos en python"
      ]
    },
    {
      "cell_type": "markdown",
      "metadata": {
        "id": "ThlEUE6HjWP6",
        "colab_type": "text"
      },
      "source": [
        "## Listas en Python \n",
        "\n",
        "Una lista es una estructura de datos que permite colectar objetos. \n",
        "Creamos una lista de enteros de la siguiente forma:"
      ]
    },
    {
      "cell_type": "code",
      "metadata": {
        "id": "bfz4d6rKjVIc",
        "colab_type": "code",
        "outputId": "97dbe1e2-faac-4139-c71b-14c680a007c9",
        "colab": {
          "base_uri": "https://localhost:8080/",
          "height": 35
        }
      },
      "source": [
        "L = list(range(10))\n",
        "L"
      ],
      "execution_count": 0,
      "outputs": [
        {
          "output_type": "execute_result",
          "data": {
            "text/plain": [
              "[0, 1, 2, 3, 4, 5, 6, 7, 8, 9]"
            ]
          },
          "metadata": {
            "tags": []
          },
          "execution_count": 3
        }
      ]
    },
    {
      "cell_type": "code",
      "metadata": {
        "id": "Oj0d0-rvjiY-",
        "colab_type": "code",
        "outputId": "672cfc1d-2055-43b0-b417-1332fbb5bdf5",
        "colab": {
          "base_uri": "https://localhost:8080/",
          "height": 35
        }
      },
      "source": [
        "type(L[0])"
      ],
      "execution_count": 0,
      "outputs": [
        {
          "output_type": "execute_result",
          "data": {
            "text/plain": [
              "int"
            ]
          },
          "metadata": {
            "tags": []
          },
          "execution_count": 4
        }
      ]
    },
    {
      "cell_type": "markdown",
      "metadata": {
        "id": "eaD48sPYjdUC",
        "colab_type": "text"
      },
      "source": [
        "O una lista de caracteres de texto:"
      ]
    },
    {
      "cell_type": "code",
      "metadata": {
        "id": "aljoRWlSjaS0",
        "colab_type": "code",
        "outputId": "6bc710c0-ddb2-4381-8042-a904f056cd42",
        "colab": {
          "base_uri": "https://localhost:8080/",
          "height": 35
        }
      },
      "source": [
        "L2 = [str(c) for c in L]\n",
        "L2"
      ],
      "execution_count": 0,
      "outputs": [
        {
          "output_type": "execute_result",
          "data": {
            "text/plain": [
              "['0', '1', '2', '3', '4', '5', '6', '7', '8', '9']"
            ]
          },
          "metadata": {
            "tags": []
          },
          "execution_count": 5
        }
      ]
    },
    {
      "cell_type": "code",
      "metadata": {
        "id": "xUw-txh8jk5N",
        "colab_type": "code",
        "outputId": "6f52b214-0319-44be-a55d-d5cf3084593e",
        "colab": {
          "base_uri": "https://localhost:8080/",
          "height": 35
        }
      },
      "source": [
        "type(L2[0])"
      ],
      "execution_count": 0,
      "outputs": [
        {
          "output_type": "execute_result",
          "data": {
            "text/plain": [
              "str"
            ]
          },
          "metadata": {
            "tags": []
          },
          "execution_count": 6
        }
      ]
    },
    {
      "cell_type": "markdown",
      "metadata": {
        "id": "OUHq0qFTj2x9",
        "colab_type": "text"
      },
      "source": [
        "Gracias al tipado dinámico podemos crear listas heterogéneas:"
      ]
    },
    {
      "cell_type": "code",
      "metadata": {
        "id": "qfjSrvbMjmZV",
        "colab_type": "code",
        "outputId": "4a517dc3-2df1-4827-b062-8cfbb608af89",
        "colab": {
          "base_uri": "https://localhost:8080/",
          "height": 35
        }
      },
      "source": [
        "L3 = [True, \"2\", 3.0, 4]\n",
        "[type(item) for item in L3]"
      ],
      "execution_count": 0,
      "outputs": [
        {
          "output_type": "execute_result",
          "data": {
            "text/plain": [
              "[bool, str, float, int]"
            ]
          },
          "metadata": {
            "tags": []
          },
          "execution_count": 7
        }
      ]
    },
    {
      "cell_type": "markdown",
      "metadata": {
        "id": "gFdhMri6kBe7",
        "colab_type": "text"
      },
      "source": [
        "## Arreglos de Tipo Fijo en Python\n",
        "\n",
        "- En Python hay diferentes opciones para guardar datos en buffers de tipo fijo\n",
        "- El modulo interno ``array`` (disponible a partir de Python 3.3) sirve para crear arreglos densos de tipo uniforme:"
      ]
    },
    {
      "cell_type": "code",
      "metadata": {
        "id": "OmCxjSacj4rF",
        "colab_type": "code",
        "outputId": "9cf733e3-3ea8-4164-b522-99b5439ba1f7",
        "colab": {
          "base_uri": "https://localhost:8080/",
          "height": 35
        }
      },
      "source": [
        "import array\n",
        "L = list(range(10))\n",
        "A = array.array('i', L)\n",
        "A"
      ],
      "execution_count": 0,
      "outputs": [
        {
          "output_type": "execute_result",
          "data": {
            "text/plain": [
              "array('i', [0, 1, 2, 3, 4, 5, 6, 7, 8, 9])"
            ]
          },
          "metadata": {
            "tags": []
          },
          "execution_count": 8
        }
      ]
    },
    {
      "cell_type": "markdown",
      "metadata": {
        "id": "xVWNND6NkIJ9",
        "colab_type": "text"
      },
      "source": [
        "- Aquí ``'i'`` indica que las entradas son enteros.\n",
        "- El objeto ``ndarray`` de la libreria NumPy  es mucho mas útil ya que implementa operaciones sobre los datos contenidos.\n",
        "- Antes de explorar estas operaciones, veamos diversas maneras de crear arreglos de NumPy\n",
        "- Comenzamos con la manera standard de importar NumPy, usando el alias ``np``:"
      ]
    },
    {
      "cell_type": "markdown",
      "metadata": {
        "id": "ZAyqn69vkNoL",
        "colab_type": "text"
      },
      "source": [
        "## Crear Arreglos a partir de Listas de Python\n",
        "\n",
        "Podemos usar ``np.array`` para crear arreglos a partir de listas:"
      ]
    },
    {
      "cell_type": "code",
      "metadata": {
        "id": "q1rZL8khkEO4",
        "colab_type": "code",
        "outputId": "0b7e24e8-143a-43e4-d01b-1ab86b90cda5",
        "colab": {
          "base_uri": "https://localhost:8080/",
          "height": 35
        }
      },
      "source": [
        "# integer array:\n",
        "np.array([1, 4, 2, 5, 3])"
      ],
      "execution_count": 0,
      "outputs": [
        {
          "output_type": "execute_result",
          "data": {
            "text/plain": [
              "array([1, 4, 2, 5, 3])"
            ]
          },
          "metadata": {
            "tags": []
          },
          "execution_count": 9
        }
      ]
    },
    {
      "cell_type": "markdown",
      "metadata": {
        "id": "6ws4N_5ekayb",
        "colab_type": "text"
      },
      "source": [
        "- A diferencia de las lista en Python, NumPy está restringif a arreglos que contienen el mismo tipo de datos\n",
        "- Si los tipos no coinciden NumPy trata de ajustar (*upcast*, emitir) si es posible\n",
        "- En el siguiente ejemplo, los enteros se emiten a punto flotante:"
      ]
    },
    {
      "cell_type": "code",
      "metadata": {
        "id": "cAjVRpxfkQpe",
        "colab_type": "code",
        "outputId": "bb97bec6-84fa-4f0e-f476-d280634b9e2e",
        "colab": {
          "base_uri": "https://localhost:8080/",
          "height": 35
        }
      },
      "source": [
        "np.array([3.14, 4, 2, 3])"
      ],
      "execution_count": 0,
      "outputs": [
        {
          "output_type": "execute_result",
          "data": {
            "text/plain": [
              "array([3.14, 4.  , 2.  , 3.  ])"
            ]
          },
          "metadata": {
            "tags": []
          },
          "execution_count": 10
        }
      ]
    },
    {
      "cell_type": "markdown",
      "metadata": {
        "id": "vU-MLBzokk75",
        "colab_type": "text"
      },
      "source": [
        "- Podemos indicar el tipo de datos del arreglo explicitamente usando la palabra ``dtype``:"
      ]
    },
    {
      "cell_type": "code",
      "metadata": {
        "id": "UoklX8MZkf6l",
        "colab_type": "code",
        "outputId": "51264f17-83bd-4adb-f845-835a1c7e3814",
        "colab": {
          "base_uri": "https://localhost:8080/",
          "height": 35
        }
      },
      "source": [
        "np.array([1, 2, 3, 4], dtype='float32')"
      ],
      "execution_count": 0,
      "outputs": [
        {
          "output_type": "execute_result",
          "data": {
            "text/plain": [
              "array([1., 2., 3., 4.], dtype=float32)"
            ]
          },
          "metadata": {
            "tags": []
          },
          "execution_count": 11
        }
      ]
    },
    {
      "cell_type": "markdown",
      "metadata": {
        "id": "7ybJn19tkw6V",
        "colab_type": "text"
      },
      "source": [
        "- A diferencia de las listas, los arreglos de NumPy pueden ser explicitamente multi-dimensionales\n",
        "- A continuación, una forma de inicializar un arreglo multidimensional usando una lista de listas:"
      ]
    },
    {
      "cell_type": "code",
      "metadata": {
        "id": "fF6WVwRfkoQq",
        "colab_type": "code",
        "outputId": "e4957899-cc46-45e6-da07-d34a04680cf8",
        "colab": {
          "base_uri": "https://localhost:8080/",
          "height": 72
        }
      },
      "source": [
        "# nested lists result in multi-dimensional arrays\n",
        "np.array([range(i, i + 3) for i in [2, 4, 6]])"
      ],
      "execution_count": 0,
      "outputs": [
        {
          "output_type": "execute_result",
          "data": {
            "text/plain": [
              "array([[2, 3, 4],\n",
              "       [4, 5, 6],\n",
              "       [6, 7, 8]])"
            ]
          },
          "metadata": {
            "tags": []
          },
          "execution_count": 12
        }
      ]
    },
    {
      "cell_type": "markdown",
      "metadata": {
        "id": "Ic268OV4k2Dh",
        "colab_type": "text"
      },
      "source": [
        "- Las listas interiores se toman como renglones del arreglo bidimensional resultante"
      ]
    },
    {
      "cell_type": "markdown",
      "metadata": {
        "id": "kd0ZpHbue-zZ",
        "colab_type": "text"
      },
      "source": [
        "## Creando Arreglos \n",
        "\n",
        "- Para arreglos grandes, es mas eficiente crearlos usando rutinas implementadas en NumPy:"
      ]
    },
    {
      "cell_type": "code",
      "metadata": {
        "id": "y7-UvkPUfB4o",
        "colab_type": "code",
        "outputId": "365dac88-8e86-4106-8911-85347ebc3679",
        "colab": {
          "base_uri": "https://localhost:8080/",
          "height": 35
        }
      },
      "source": [
        "# Crea arreglo de enteros de longitud-10 lleno de ceros\n",
        "np.zeros(10, dtype=int)"
      ],
      "execution_count": 0,
      "outputs": [
        {
          "output_type": "execute_result",
          "data": {
            "text/plain": [
              "array([0, 0, 0, 0, 0, 0, 0, 0, 0, 0])"
            ]
          },
          "metadata": {
            "tags": []
          },
          "execution_count": 4
        }
      ]
    },
    {
      "cell_type": "code",
      "metadata": {
        "id": "nruhLTj2fF-z",
        "colab_type": "code",
        "outputId": "4b0e8608-be8d-4f8b-9228-385b778d23aa",
        "colab": {
          "base_uri": "https://localhost:8080/",
          "height": 72
        }
      },
      "source": [
        "# Crea arreglo con puntos flotantes de dimensiones 3x5 (3 renglones, 5 columnas) lleno de unos\n",
        "np.ones((3, 5), dtype=float)"
      ],
      "execution_count": 0,
      "outputs": [
        {
          "output_type": "execute_result",
          "data": {
            "text/plain": [
              "array([[1., 1., 1., 1., 1.],\n",
              "       [1., 1., 1., 1., 1.],\n",
              "       [1., 1., 1., 1., 1.]])"
            ]
          },
          "metadata": {
            "tags": []
          },
          "execution_count": 5
        }
      ]
    },
    {
      "cell_type": "code",
      "metadata": {
        "id": "oi2pyYmpfHxv",
        "colab_type": "code",
        "outputId": "35ef02de-7bc3-489c-8eaf-9f8c95ee6277",
        "colab": {
          "base_uri": "https://localhost:8080/",
          "height": 72
        }
      },
      "source": [
        "# Crea arreglo de 3x5 array lleno de 3.14\n",
        "np.full((3, 5), 3.14)"
      ],
      "execution_count": 0,
      "outputs": [
        {
          "output_type": "execute_result",
          "data": {
            "text/plain": [
              "array([[3.14, 3.14, 3.14, 3.14, 3.14],\n",
              "       [3.14, 3.14, 3.14, 3.14, 3.14],\n",
              "       [3.14, 3.14, 3.14, 3.14, 3.14]])"
            ]
          },
          "metadata": {
            "tags": []
          },
          "execution_count": 6
        }
      ]
    },
    {
      "cell_type": "code",
      "metadata": {
        "id": "W0k6V13rfMEO",
        "colab_type": "code",
        "outputId": "b2586590-1fcc-44e7-ec8b-356e6f8cd0f5",
        "colab": {
          "base_uri": "https://localhost:8080/",
          "height": 35
        }
      },
      "source": [
        "# Crea arreglo lleno con una secuencia lineal de numeros\n",
        "# Empieza en 0, acaba en 20, en pasos de 2\n",
        "# (similar a la funcion interna range())\n",
        "np.arange(0, 20, 2)"
      ],
      "execution_count": 0,
      "outputs": [
        {
          "output_type": "execute_result",
          "data": {
            "text/plain": [
              "array([ 0,  2,  4,  6,  8, 10, 12, 14, 16, 18])"
            ]
          },
          "metadata": {
            "tags": []
          },
          "execution_count": 7
        }
      ]
    },
    {
      "cell_type": "code",
      "metadata": {
        "id": "7WoX0Xr9fNo4",
        "colab_type": "code",
        "outputId": "7ab20c5e-e13a-406c-f2f7-36d763e94cf8",
        "colab": {
          "base_uri": "https://localhost:8080/",
          "height": 35
        }
      },
      "source": [
        "# Crea array de cinco valores igualmente espaciados entre 0 y 1\n",
        "np.linspace(0, 1, 5)"
      ],
      "execution_count": 0,
      "outputs": [
        {
          "output_type": "execute_result",
          "data": {
            "text/plain": [
              "array([0.  , 0.25, 0.5 , 0.75, 1.  ])"
            ]
          },
          "metadata": {
            "tags": []
          },
          "execution_count": 8
        }
      ]
    },
    {
      "cell_type": "code",
      "metadata": {
        "id": "F56yfUI1fVrG",
        "colab_type": "code",
        "outputId": "773aa886-794e-4d4b-df3a-334d5a38e95b",
        "colab": {
          "base_uri": "https://localhost:8080/",
          "height": 72
        }
      },
      "source": [
        "# Crea un arreglo de 3x3 con valores aleatorios\n",
        "# distribuidos de manera uniforma entre 0 y 1\n",
        "np.random.random((3, 3))"
      ],
      "execution_count": 0,
      "outputs": [
        {
          "output_type": "execute_result",
          "data": {
            "text/plain": [
              "array([[0.38334202, 0.8364935 , 0.75344588],\n",
              "       [0.49743426, 0.02222792, 0.18910781],\n",
              "       [0.47994283, 0.52085061, 0.17049464]])"
            ]
          },
          "metadata": {
            "tags": []
          },
          "execution_count": 9
        }
      ]
    },
    {
      "cell_type": "code",
      "metadata": {
        "id": "hE0RhoJHfYg_",
        "colab_type": "code",
        "outputId": "b2745a7a-9ec3-4a8a-bc1e-4470f80cf9dd",
        "colab": {
          "base_uri": "https://localhost:8080/",
          "height": 72
        }
      },
      "source": [
        "# Crea un arreglo de 3x3 con valores aleatorios\n",
        "# distribuidos de manera normal con media 0 y desviacion estandard 1\n",
        "np.random.normal(0, 1, (3, 3))"
      ],
      "execution_count": 0,
      "outputs": [
        {
          "output_type": "execute_result",
          "data": {
            "text/plain": [
              "array([[-1.70145262,  1.08614019,  0.69686007],\n",
              "       [ 0.34403348, -0.53994747,  1.16725075],\n",
              "       [-0.80490618,  0.873108  ,  0.03265976]])"
            ]
          },
          "metadata": {
            "tags": []
          },
          "execution_count": 10
        }
      ]
    },
    {
      "cell_type": "code",
      "metadata": {
        "id": "gX42_cc9fe23",
        "colab_type": "code",
        "outputId": "f45e5f19-f09b-4986-b4c7-07c0c07747bc",
        "colab": {
          "base_uri": "https://localhost:8080/",
          "height": 72
        }
      },
      "source": [
        "# Crea array de 3x3 de numeros enterros aleatorios tomados del intervalo [0, 10)\n",
        "np.random.randint(0, 10, (3, 3))"
      ],
      "execution_count": 0,
      "outputs": [
        {
          "output_type": "execute_result",
          "data": {
            "text/plain": [
              "array([[9, 6, 5],\n",
              "       [8, 9, 5],\n",
              "       [9, 9, 5]])"
            ]
          },
          "metadata": {
            "tags": []
          },
          "execution_count": 11
        }
      ]
    },
    {
      "cell_type": "code",
      "metadata": {
        "id": "ZVw1knixflbi",
        "colab_type": "code",
        "outputId": "37d784fe-1bbb-4c75-dadc-66bd58004070",
        "colab": {
          "base_uri": "https://localhost:8080/",
          "height": 72
        }
      },
      "source": [
        "# Crea matrix identidad de 3x3 (arreglo cuyas entradas son todas cero excepto las diagonales)\n",
        "np.eye(3)"
      ],
      "execution_count": 0,
      "outputs": [
        {
          "output_type": "execute_result",
          "data": {
            "text/plain": [
              "array([[1., 0., 0.],\n",
              "       [0., 1., 0.],\n",
              "       [0., 0., 1.]])"
            ]
          },
          "metadata": {
            "tags": []
          },
          "execution_count": 12
        }
      ]
    },
    {
      "cell_type": "code",
      "metadata": {
        "id": "55-3Rr3Pfphn",
        "colab_type": "code",
        "outputId": "c8bb718d-26da-4f44-e848-9646d61785b6",
        "colab": {
          "base_uri": "https://localhost:8080/",
          "height": 35
        }
      },
      "source": [
        "# Crea un array de tres enteros sin valores especificos\n",
        "# Los valores se toman de lo que exista en esa localizacion de la memoria\n",
        "np.empty(3)"
      ],
      "execution_count": 0,
      "outputs": [
        {
          "output_type": "execute_result",
          "data": {
            "text/plain": [
              "array([1., 1., 1.])"
            ]
          },
          "metadata": {
            "tags": []
          },
          "execution_count": 13
        }
      ]
    },
    {
      "cell_type": "code",
      "metadata": {
        "id": "pTnvQl0qfrCV",
        "colab_type": "code",
        "colab": {}
      },
      "source": [
        ""
      ],
      "execution_count": 0,
      "outputs": []
    },
    {
      "cell_type": "markdown",
      "metadata": {
        "id": "f-JBNDlZgpFy",
        "colab_type": "text"
      },
      "source": [
        "#01.02 Basicos de NumPy: arreglos\n",
        "\n",
        "Categorias de manipulaciones básicas de arreglos:\n",
        "\n",
        "- *Atributos de arrays*\n",
        "- *Indexado de arrays*\n",
        "- *Rebanadas de arrays*\n",
        "- *Reformado de arrays*\n",
        "- *Union y separación de arrays*"
      ]
    },
    {
      "cell_type": "markdown",
      "metadata": {
        "id": "c8xJymzGhj_b",
        "colab_type": "text"
      },
      "source": [
        "## Atributos de Arrays"
      ]
    },
    {
      "cell_type": "code",
      "metadata": {
        "id": "ya6S9-3egtpb",
        "colab_type": "code",
        "colab": {}
      },
      "source": [
        "np.random.seed(0)  # seed for reproducibility\n",
        "\n",
        "x1 = np.random.randint(10, size=6)  # One-dimensional array\n",
        "x2 = np.random.randint(10, size=(3, 4))  # Two-dimensional array\n",
        "x3 = np.random.randint(10, size=(3, 4, 5))  # Three-dimensional array"
      ],
      "execution_count": 0,
      "outputs": []
    },
    {
      "cell_type": "code",
      "metadata": {
        "id": "5rtVoZTkhm04",
        "colab_type": "code",
        "outputId": "81fd72b4-bf47-4caa-c43d-49243a75b2b1",
        "colab": {
          "base_uri": "https://localhost:8080/",
          "height": 72
        }
      },
      "source": [
        "print(\"x3 ndim: \", x3.ndim)\n",
        "print(\"x3 shape:\", x3.shape)\n",
        "print(\"x3 size: \", x3.size)"
      ],
      "execution_count": 0,
      "outputs": [
        {
          "output_type": "stream",
          "text": [
            "x3 ndim:  3\n",
            "x3 shape: (3, 4, 5)\n",
            "x3 size:  60\n"
          ],
          "name": "stdout"
        }
      ]
    },
    {
      "cell_type": "code",
      "metadata": {
        "id": "tvL-Io9shqrQ",
        "colab_type": "code",
        "outputId": "5c12fcd0-521d-4cdc-c1b1-523f2621fc1c",
        "colab": {
          "base_uri": "https://localhost:8080/",
          "height": 35
        }
      },
      "source": [
        "print(\"dtype:\", x3.dtype)"
      ],
      "execution_count": 0,
      "outputs": [
        {
          "output_type": "stream",
          "text": [
            "dtype: int64\n"
          ],
          "name": "stdout"
        }
      ]
    },
    {
      "cell_type": "code",
      "metadata": {
        "id": "fkafnvWmhuiI",
        "colab_type": "code",
        "outputId": "9861d058-79df-409a-ba8b-7691b1a25aaf",
        "colab": {
          "base_uri": "https://localhost:8080/",
          "height": 54
        }
      },
      "source": [
        "print(\"itemsize:\", x3.itemsize, \"bytes\")\n",
        "print(\"nbytes:\", x3.nbytes, \"bytes\")"
      ],
      "execution_count": 0,
      "outputs": [
        {
          "output_type": "stream",
          "text": [
            "itemsize: 8 bytes\n",
            "nbytes: 480 bytes\n"
          ],
          "name": "stdout"
        }
      ]
    },
    {
      "cell_type": "markdown",
      "metadata": {
        "id": "YUDro6V4hz1J",
        "colab_type": "text"
      },
      "source": [
        "## Indexado de Arrays : Acceso a elementos individuales"
      ]
    },
    {
      "cell_type": "code",
      "metadata": {
        "id": "4kZm9qQ9h4Jp",
        "colab_type": "code",
        "outputId": "4bd4a0a9-c031-4471-ef66-34b4aaddc798",
        "colab": {
          "base_uri": "https://localhost:8080/",
          "height": 35
        }
      },
      "source": [
        "x1"
      ],
      "execution_count": 0,
      "outputs": [
        {
          "output_type": "execute_result",
          "data": {
            "text/plain": [
              "array([5, 0, 3, 3, 7, 9])"
            ]
          },
          "metadata": {
            "tags": []
          },
          "execution_count": 18
        }
      ]
    },
    {
      "cell_type": "code",
      "metadata": {
        "id": "9i1OG1O8h6B4",
        "colab_type": "code",
        "outputId": "097bf684-f971-48ce-b7fa-06397cf6f078",
        "colab": {
          "base_uri": "https://localhost:8080/",
          "height": 35
        }
      },
      "source": [
        "x1[0]"
      ],
      "execution_count": 0,
      "outputs": [
        {
          "output_type": "execute_result",
          "data": {
            "text/plain": [
              "5"
            ]
          },
          "metadata": {
            "tags": []
          },
          "execution_count": 19
        }
      ]
    },
    {
      "cell_type": "code",
      "metadata": {
        "id": "kXC0TM5bh7j_",
        "colab_type": "code",
        "outputId": "c556fcf6-c37c-4f24-ccf8-5c425ce56015",
        "colab": {
          "base_uri": "https://localhost:8080/",
          "height": 35
        }
      },
      "source": [
        "x1[4]"
      ],
      "execution_count": 0,
      "outputs": [
        {
          "output_type": "execute_result",
          "data": {
            "text/plain": [
              "7"
            ]
          },
          "metadata": {
            "tags": []
          },
          "execution_count": 20
        }
      ]
    },
    {
      "cell_type": "code",
      "metadata": {
        "id": "it8t0RaAh-IN",
        "colab_type": "code",
        "outputId": "c8d948a4-3d12-44a7-ce28-e0dc1faa4b93",
        "colab": {
          "base_uri": "https://localhost:8080/",
          "height": 35
        }
      },
      "source": [
        "x1[-1]"
      ],
      "execution_count": 0,
      "outputs": [
        {
          "output_type": "execute_result",
          "data": {
            "text/plain": [
              "9"
            ]
          },
          "metadata": {
            "tags": []
          },
          "execution_count": 21
        }
      ]
    },
    {
      "cell_type": "code",
      "metadata": {
        "id": "h0tHNTJ8h_SN",
        "colab_type": "code",
        "outputId": "6441054e-8206-45a0-8d60-028ceafa44f8",
        "colab": {
          "base_uri": "https://localhost:8080/",
          "height": 35
        }
      },
      "source": [
        "x1[-2]"
      ],
      "execution_count": 0,
      "outputs": [
        {
          "output_type": "execute_result",
          "data": {
            "text/plain": [
              "7"
            ]
          },
          "metadata": {
            "tags": []
          },
          "execution_count": 22
        }
      ]
    },
    {
      "cell_type": "code",
      "metadata": {
        "id": "RVFD-oQliAVt",
        "colab_type": "code",
        "outputId": "229286c3-63d1-49fd-d56b-5fca3d3b8d89",
        "colab": {
          "base_uri": "https://localhost:8080/",
          "height": 72
        }
      },
      "source": [
        "x2"
      ],
      "execution_count": 0,
      "outputs": [
        {
          "output_type": "execute_result",
          "data": {
            "text/plain": [
              "array([[3, 5, 2, 4],\n",
              "       [7, 6, 8, 8],\n",
              "       [1, 6, 7, 7]])"
            ]
          },
          "metadata": {
            "tags": []
          },
          "execution_count": 23
        }
      ]
    },
    {
      "cell_type": "code",
      "metadata": {
        "id": "XxinFI-ciRaS",
        "colab_type": "code",
        "outputId": "ce37aba0-d4da-4da9-e6ce-8b8075b61c05",
        "colab": {
          "base_uri": "https://localhost:8080/",
          "height": 35
        }
      },
      "source": [
        "x2[0, 0]"
      ],
      "execution_count": 0,
      "outputs": [
        {
          "output_type": "execute_result",
          "data": {
            "text/plain": [
              "3"
            ]
          },
          "metadata": {
            "tags": []
          },
          "execution_count": 24
        }
      ]
    },
    {
      "cell_type": "code",
      "metadata": {
        "id": "KPaPbcEKiSgB",
        "colab_type": "code",
        "outputId": "adcf1bcc-5a7d-4a10-b5d5-1b1a686ed8cf",
        "colab": {
          "base_uri": "https://localhost:8080/",
          "height": 35
        }
      },
      "source": [
        "x2[2, 0]"
      ],
      "execution_count": 0,
      "outputs": [
        {
          "output_type": "execute_result",
          "data": {
            "text/plain": [
              "1"
            ]
          },
          "metadata": {
            "tags": []
          },
          "execution_count": 25
        }
      ]
    },
    {
      "cell_type": "code",
      "metadata": {
        "id": "9SWdR3x_iiMC",
        "colab_type": "code",
        "outputId": "63a2dd45-b36a-43fb-8db9-942a58c0466c",
        "colab": {
          "base_uri": "https://localhost:8080/",
          "height": 35
        }
      },
      "source": [
        "x2[2, -1]"
      ],
      "execution_count": 0,
      "outputs": [
        {
          "output_type": "execute_result",
          "data": {
            "text/plain": [
              "7"
            ]
          },
          "metadata": {
            "tags": []
          },
          "execution_count": 26
        }
      ]
    },
    {
      "cell_type": "code",
      "metadata": {
        "id": "JUA6JFEZi10w",
        "colab_type": "code",
        "outputId": "fb82ae37-2bd1-4912-c84f-0e6463108d88",
        "colab": {
          "base_uri": "https://localhost:8080/",
          "height": 72
        }
      },
      "source": [
        "x2[0, 0] = 12\n",
        "x2"
      ],
      "execution_count": 0,
      "outputs": [
        {
          "output_type": "execute_result",
          "data": {
            "text/plain": [
              "array([[12,  5,  2,  4],\n",
              "       [ 7,  6,  8,  8],\n",
              "       [ 1,  6,  7,  7]])"
            ]
          },
          "metadata": {
            "tags": []
          },
          "execution_count": 27
        }
      ]
    },
    {
      "cell_type": "code",
      "metadata": {
        "id": "DBfKdbuTi4Py",
        "colab_type": "code",
        "outputId": "74789a41-4e86-4037-97c5-4513f3df624c",
        "colab": {
          "base_uri": "https://localhost:8080/",
          "height": 35
        }
      },
      "source": [
        "x1[0] = 3.14159  # this will be truncated!\n",
        "x1"
      ],
      "execution_count": 0,
      "outputs": [
        {
          "output_type": "execute_result",
          "data": {
            "text/plain": [
              "array([3, 0, 3, 3, 7, 9])"
            ]
          },
          "metadata": {
            "tags": []
          },
          "execution_count": 28
        }
      ]
    },
    {
      "cell_type": "code",
      "metadata": {
        "id": "nBL1fV86i6-r",
        "colab_type": "code",
        "colab": {}
      },
      "source": [
        ""
      ],
      "execution_count": 0,
      "outputs": []
    },
    {
      "cell_type": "markdown",
      "metadata": {
        "id": "Rb_BXkS7jAu2",
        "colab_type": "text"
      },
      "source": [
        "## Rebanadas de Arrays: Accesa a partes (subarrays)"
      ]
    },
    {
      "cell_type": "markdown",
      "metadata": {
        "id": "J1kAdHDqjDmI",
        "colab_type": "text"
      },
      "source": [
        "``` python\n",
        "x[start:stop:step]\n",
        "```"
      ]
    },
    {
      "cell_type": "markdown",
      "metadata": {
        "id": "2TFMLUUtjM1x",
        "colab_type": "text"
      },
      "source": [
        "### Uni-dimensionales"
      ]
    },
    {
      "cell_type": "code",
      "metadata": {
        "id": "1LrKdeBwjPQv",
        "colab_type": "code",
        "outputId": "463a57a0-249c-4633-b336-f46895a7ec71",
        "colab": {
          "base_uri": "https://localhost:8080/",
          "height": 35
        }
      },
      "source": [
        "x = np.arange(10)\n",
        "x"
      ],
      "execution_count": 0,
      "outputs": [
        {
          "output_type": "execute_result",
          "data": {
            "text/plain": [
              "array([0, 1, 2, 3, 4, 5, 6, 7, 8, 9])"
            ]
          },
          "metadata": {
            "tags": []
          },
          "execution_count": 29
        }
      ]
    },
    {
      "cell_type": "code",
      "metadata": {
        "id": "-hKwtSr5jQf7",
        "colab_type": "code",
        "outputId": "942f8a39-513d-473d-d737-79ffd018e355",
        "colab": {
          "base_uri": "https://localhost:8080/",
          "height": 35
        }
      },
      "source": [
        "x[:5]  # first five elements"
      ],
      "execution_count": 0,
      "outputs": [
        {
          "output_type": "execute_result",
          "data": {
            "text/plain": [
              "array([0, 1, 2, 3, 4])"
            ]
          },
          "metadata": {
            "tags": []
          },
          "execution_count": 30
        }
      ]
    },
    {
      "cell_type": "code",
      "metadata": {
        "id": "6pS1aR1rjSwZ",
        "colab_type": "code",
        "outputId": "a6027f00-9b12-4219-f130-657d0f2b4398",
        "colab": {
          "base_uri": "https://localhost:8080/",
          "height": 35
        }
      },
      "source": [
        "x[5:]  # elements after index 5"
      ],
      "execution_count": 0,
      "outputs": [
        {
          "output_type": "execute_result",
          "data": {
            "text/plain": [
              "array([5, 6, 7, 8, 9])"
            ]
          },
          "metadata": {
            "tags": []
          },
          "execution_count": 31
        }
      ]
    },
    {
      "cell_type": "code",
      "metadata": {
        "id": "sevPWMTyjWSP",
        "colab_type": "code",
        "outputId": "6e083e69-3834-4bd5-9c86-8d20d0f5bd36",
        "colab": {
          "base_uri": "https://localhost:8080/",
          "height": 35
        }
      },
      "source": [
        "x[4:7]  # middle sub-array"
      ],
      "execution_count": 0,
      "outputs": [
        {
          "output_type": "execute_result",
          "data": {
            "text/plain": [
              "array([4, 5, 6])"
            ]
          },
          "metadata": {
            "tags": []
          },
          "execution_count": 32
        }
      ]
    },
    {
      "cell_type": "code",
      "metadata": {
        "id": "_cnNLR1FkUca",
        "colab_type": "code",
        "outputId": "e5c9130a-d416-4a9b-b2a4-bb7522b665eb",
        "colab": {
          "base_uri": "https://localhost:8080/",
          "height": 35
        }
      },
      "source": [
        "x[::2]  # every other element"
      ],
      "execution_count": 0,
      "outputs": [
        {
          "output_type": "execute_result",
          "data": {
            "text/plain": [
              "array([0, 2, 4, 6, 8])"
            ]
          },
          "metadata": {
            "tags": []
          },
          "execution_count": 33
        }
      ]
    },
    {
      "cell_type": "code",
      "metadata": {
        "id": "8MF896xEkfjn",
        "colab_type": "code",
        "outputId": "c7c85d15-1e28-47dc-ddd8-e2cd660edf62",
        "colab": {
          "base_uri": "https://localhost:8080/",
          "height": 35
        }
      },
      "source": [
        "x[1::2]  # every other element, starting at index 1"
      ],
      "execution_count": 0,
      "outputs": [
        {
          "output_type": "execute_result",
          "data": {
            "text/plain": [
              "array([1, 3, 5, 7, 9])"
            ]
          },
          "metadata": {
            "tags": []
          },
          "execution_count": 34
        }
      ]
    },
    {
      "cell_type": "code",
      "metadata": {
        "id": "1X4c1RuSknHf",
        "colab_type": "code",
        "outputId": "24e6cdb0-9220-4de8-9c5e-1d2e3f18105e",
        "colab": {
          "base_uri": "https://localhost:8080/",
          "height": 35
        }
      },
      "source": [
        "x[::-1]  # all elements, reversed"
      ],
      "execution_count": 0,
      "outputs": [
        {
          "output_type": "execute_result",
          "data": {
            "text/plain": [
              "array([9, 8, 7, 6, 5, 4, 3, 2, 1, 0])"
            ]
          },
          "metadata": {
            "tags": []
          },
          "execution_count": 35
        }
      ]
    },
    {
      "cell_type": "code",
      "metadata": {
        "id": "mG2_AM5GlL9a",
        "colab_type": "code",
        "outputId": "b916c6f4-12a4-4e76-c656-2365bb98328c",
        "colab": {
          "base_uri": "https://localhost:8080/",
          "height": 35
        }
      },
      "source": [
        "x[5::-2]  # reversed every other from index 5"
      ],
      "execution_count": 0,
      "outputs": [
        {
          "output_type": "execute_result",
          "data": {
            "text/plain": [
              "array([5, 3, 1])"
            ]
          },
          "metadata": {
            "tags": []
          },
          "execution_count": 36
        }
      ]
    },
    {
      "cell_type": "markdown",
      "metadata": {
        "id": "gHGwI95aldBt",
        "colab_type": "text"
      },
      "source": [
        "### Multi-dimensionales"
      ]
    },
    {
      "cell_type": "code",
      "metadata": {
        "id": "cFtFH24MlSCo",
        "colab_type": "code",
        "outputId": "8ae28e82-13ea-468c-ebde-95354a244f8b",
        "colab": {
          "base_uri": "https://localhost:8080/",
          "height": 72
        }
      },
      "source": [
        "x2"
      ],
      "execution_count": 0,
      "outputs": [
        {
          "output_type": "execute_result",
          "data": {
            "text/plain": [
              "array([[12,  5,  2,  4],\n",
              "       [ 7,  6,  8,  8],\n",
              "       [ 1,  6,  7,  7]])"
            ]
          },
          "metadata": {
            "tags": []
          },
          "execution_count": 37
        }
      ]
    },
    {
      "cell_type": "code",
      "metadata": {
        "id": "bf7iTQmam6HK",
        "colab_type": "code",
        "outputId": "3f2161fa-75ca-47f1-8d99-b7fb1de8bdea",
        "colab": {
          "base_uri": "https://localhost:8080/",
          "height": 54
        }
      },
      "source": [
        "x2[:2, :3]  # two rows, three columns"
      ],
      "execution_count": 0,
      "outputs": [
        {
          "output_type": "execute_result",
          "data": {
            "text/plain": [
              "array([[12,  5,  2],\n",
              "       [ 7,  6,  8]])"
            ]
          },
          "metadata": {
            "tags": []
          },
          "execution_count": 38
        }
      ]
    },
    {
      "cell_type": "code",
      "metadata": {
        "id": "SmEpyWkUm8IR",
        "colab_type": "code",
        "outputId": "1b246ee1-e98e-4d08-a04d-4e341c6b40f5",
        "colab": {
          "base_uri": "https://localhost:8080/",
          "height": 72
        }
      },
      "source": [
        "x2[:3, ::2]  # all rows, every other column"
      ],
      "execution_count": 0,
      "outputs": [
        {
          "output_type": "execute_result",
          "data": {
            "text/plain": [
              "array([[12,  2],\n",
              "       [ 7,  8],\n",
              "       [ 1,  7]])"
            ]
          },
          "metadata": {
            "tags": []
          },
          "execution_count": 39
        }
      ]
    },
    {
      "cell_type": "code",
      "metadata": {
        "id": "fU1DKfGKnCvo",
        "colab_type": "code",
        "outputId": "719b60ab-4ca8-4a18-c09e-bc87a4df0706",
        "colab": {
          "base_uri": "https://localhost:8080/",
          "height": 72
        }
      },
      "source": [
        "x2[::-1, ::-1]"
      ],
      "execution_count": 0,
      "outputs": [
        {
          "output_type": "execute_result",
          "data": {
            "text/plain": [
              "array([[ 7,  7,  6,  1],\n",
              "       [ 8,  8,  6,  7],\n",
              "       [ 4,  2,  5, 12]])"
            ]
          },
          "metadata": {
            "tags": []
          },
          "execution_count": 40
        }
      ]
    },
    {
      "cell_type": "markdown",
      "metadata": {
        "id": "RC9sdSjjnbib",
        "colab_type": "text"
      },
      "source": [
        "### Subarrays son vistas y no copias\n",
        "\n",
        "- Es importante, y práctico, entender que las rebanadas de arrays son *vistas* del trozo y no *copias* del subarray"
      ]
    },
    {
      "cell_type": "code",
      "metadata": {
        "id": "ptiboB2AncTg",
        "colab_type": "code",
        "outputId": "c25bad6d-b47a-408e-b86f-487620de6bdb",
        "colab": {
          "base_uri": "https://localhost:8080/",
          "height": 72
        }
      },
      "source": [
        "print(x2)"
      ],
      "execution_count": 0,
      "outputs": [
        {
          "output_type": "stream",
          "text": [
            "[[12  5  2  4]\n",
            " [ 7  6  8  8]\n",
            " [ 1  6  7  7]]\n"
          ],
          "name": "stdout"
        }
      ]
    },
    {
      "cell_type": "markdown",
      "metadata": {
        "id": "W-g8dDdjnjmM",
        "colab_type": "text"
      },
      "source": [
        "extraer un subarray de $2 \\times 2$ de éste:"
      ]
    },
    {
      "cell_type": "code",
      "metadata": {
        "id": "R7pE6cYQngjA",
        "colab_type": "code",
        "outputId": "7cda77d7-2e43-4e0d-ad51-fe9d7f39baf5",
        "colab": {
          "base_uri": "https://localhost:8080/",
          "height": 54
        }
      },
      "source": [
        "x2_sub = x2[:2, :2]\n",
        "print(x2_sub)"
      ],
      "execution_count": 0,
      "outputs": [
        {
          "output_type": "stream",
          "text": [
            "[[12  5]\n",
            " [ 7  6]]\n"
          ],
          "name": "stdout"
        }
      ]
    },
    {
      "cell_type": "markdown",
      "metadata": {
        "id": "ipElhMgpnuMn",
        "colab_type": "text"
      },
      "source": [
        "Ahora si modificamos este subarray, el array original también cambia! Miren:"
      ]
    },
    {
      "cell_type": "code",
      "metadata": {
        "id": "goT4gwRUnl54",
        "colab_type": "code",
        "outputId": "5d7eb911-d57e-4df5-fa70-aa207058210d",
        "colab": {
          "base_uri": "https://localhost:8080/",
          "height": 54
        }
      },
      "source": [
        "x2_sub[0, 0] = 99\n",
        "print(x2_sub)"
      ],
      "execution_count": 0,
      "outputs": [
        {
          "output_type": "stream",
          "text": [
            "[[99  5]\n",
            " [ 7  6]]\n"
          ],
          "name": "stdout"
        }
      ]
    },
    {
      "cell_type": "code",
      "metadata": {
        "id": "bwmdT5a7ntWB",
        "colab_type": "code",
        "outputId": "a7e6c090-125c-44b8-fab3-4d301de1c674",
        "colab": {
          "base_uri": "https://localhost:8080/",
          "height": 72
        }
      },
      "source": [
        "print(x2)"
      ],
      "execution_count": 0,
      "outputs": [
        {
          "output_type": "stream",
          "text": [
            "[[99  5  2  4]\n",
            " [ 7  6  8  8]\n",
            " [ 1  6  7  7]]\n"
          ],
          "name": "stdout"
        }
      ]
    },
    {
      "cell_type": "markdown",
      "metadata": {
        "id": "BOZgI2qQn754",
        "colab_type": "text"
      },
      "source": [
        "- Este comportamiento es de utilidad pues se pueden acceder y procesar partes de los arrays sin tener que hacer copias de ellos"
      ]
    },
    {
      "cell_type": "markdown",
      "metadata": {
        "id": "oVPPBZ0xoIhh",
        "colab_type": "text"
      },
      "source": [
        "### Creando copias de arrays\n",
        "\n",
        "- En ocasiones será práctico crear copias explícitas de los datos\n",
        "- Esto se hace con el método ``copy()``:"
      ]
    },
    {
      "cell_type": "code",
      "metadata": {
        "id": "iWiMliHkn1MA",
        "colab_type": "code",
        "outputId": "8cb369e8-64da-4644-d190-47a51eef7a7d",
        "colab": {
          "base_uri": "https://localhost:8080/",
          "height": 54
        }
      },
      "source": [
        "x2_sub_copy = x2[:2, :2].copy()\n",
        "print(x2_sub_copy)"
      ],
      "execution_count": 0,
      "outputs": [
        {
          "output_type": "stream",
          "text": [
            "[[99  5]\n",
            " [ 7  6]]\n"
          ],
          "name": "stdout"
        }
      ]
    },
    {
      "cell_type": "markdown",
      "metadata": {
        "id": "VicC9b96oO2E",
        "colab_type": "text"
      },
      "source": [
        "Si ahora modificamos este subarray, el original no cambia:"
      ]
    },
    {
      "cell_type": "code",
      "metadata": {
        "id": "AoU-KCBVoMv4",
        "colab_type": "code",
        "outputId": "123d06da-1b5e-44f4-d700-5278099e475a",
        "colab": {
          "base_uri": "https://localhost:8080/",
          "height": 54
        }
      },
      "source": [
        "x2_sub_copy[0, 0] = 42\n",
        "print(x2_sub_copy)"
      ],
      "execution_count": 0,
      "outputs": [
        {
          "output_type": "stream",
          "text": [
            "[[42  5]\n",
            " [ 7  6]]\n"
          ],
          "name": "stdout"
        }
      ]
    },
    {
      "cell_type": "code",
      "metadata": {
        "id": "rslp7GcZoQ2p",
        "colab_type": "code",
        "outputId": "dbf3431a-dd11-433d-b855-d1dcf21d3d56",
        "colab": {
          "base_uri": "https://localhost:8080/",
          "height": 72
        }
      },
      "source": [
        "print(x2)"
      ],
      "execution_count": 0,
      "outputs": [
        {
          "output_type": "stream",
          "text": [
            "[[99  5  2  4]\n",
            " [ 7  6  8  8]\n",
            " [ 1  6  7  7]]\n"
          ],
          "name": "stdout"
        }
      ]
    },
    {
      "cell_type": "markdown",
      "metadata": {
        "id": "AG_GBgxsoch8",
        "colab_type": "text"
      },
      "source": [
        "## Reformado (reshaping) de Arrays\n",
        "\n",
        "- Podemos cambiar la forma (reformar) de un array usando el método ``reshape``\n",
        "Por ejemplo, si queremos los número del 1 al 9 en un array de $3 \\times 3$, podemos hacer lo siguiente:"
      ]
    },
    {
      "cell_type": "code",
      "metadata": {
        "id": "WE4Bz1AGoSeW",
        "colab_type": "code",
        "outputId": "27c56243-1ad0-4ef5-f811-09237a866ba5",
        "colab": {
          "base_uri": "https://localhost:8080/",
          "height": 72
        }
      },
      "source": [
        "grid = np.arange(1, 10).reshape((3, 3))\n",
        "print(grid)"
      ],
      "execution_count": 0,
      "outputs": [
        {
          "output_type": "stream",
          "text": [
            "[[1 2 3]\n",
            " [4 5 6]\n",
            " [7 8 9]]\n"
          ],
          "name": "stdout"
        }
      ]
    },
    {
      "cell_type": "code",
      "metadata": {
        "id": "Gyp0eBHeozeY",
        "colab_type": "code",
        "outputId": "1d657261-0d57-445b-e366-49edcfe3894a",
        "colab": {
          "base_uri": "https://localhost:8080/",
          "height": 35
        }
      },
      "source": [
        "x = np.array([1, 2, 3])\n",
        "\n",
        "# row vector via reshape\n",
        "x.reshape((1, 3))"
      ],
      "execution_count": 0,
      "outputs": [
        {
          "output_type": "execute_result",
          "data": {
            "text/plain": [
              "array([[1, 2, 3]])"
            ]
          },
          "metadata": {
            "tags": []
          },
          "execution_count": 50
        }
      ]
    },
    {
      "cell_type": "code",
      "metadata": {
        "id": "RBTgzVemo2fI",
        "colab_type": "code",
        "outputId": "acf010e3-85e8-48c8-9de1-5809f7e869c9",
        "colab": {
          "base_uri": "https://localhost:8080/",
          "height": 35
        }
      },
      "source": [
        "# row vector via newaxis\n",
        "x[np.newaxis, :]"
      ],
      "execution_count": 0,
      "outputs": [
        {
          "output_type": "execute_result",
          "data": {
            "text/plain": [
              "array([[1, 2, 3]])"
            ]
          },
          "metadata": {
            "tags": []
          },
          "execution_count": 51
        }
      ]
    },
    {
      "cell_type": "code",
      "metadata": {
        "id": "losn5OpIo9OA",
        "colab_type": "code",
        "outputId": "ebbcb451-ce37-4715-cca9-ede46f732f66",
        "colab": {
          "base_uri": "https://localhost:8080/",
          "height": 72
        }
      },
      "source": [
        "# column vector via reshape\n",
        "x.reshape((3, 1))"
      ],
      "execution_count": 0,
      "outputs": [
        {
          "output_type": "execute_result",
          "data": {
            "text/plain": [
              "array([[1],\n",
              "       [2],\n",
              "       [3]])"
            ]
          },
          "metadata": {
            "tags": []
          },
          "execution_count": 52
        }
      ]
    },
    {
      "cell_type": "code",
      "metadata": {
        "id": "EPx5j3bGpAcY",
        "colab_type": "code",
        "outputId": "f932c16d-119f-48fa-f3d9-0f87cd98ddab",
        "colab": {
          "base_uri": "https://localhost:8080/",
          "height": 72
        }
      },
      "source": [
        "# column vector via newaxis\n",
        "x[:, np.newaxis]"
      ],
      "execution_count": 0,
      "outputs": [
        {
          "output_type": "execute_result",
          "data": {
            "text/plain": [
              "array([[1],\n",
              "       [2],\n",
              "       [3]])"
            ]
          },
          "metadata": {
            "tags": []
          },
          "execution_count": 54
        }
      ]
    },
    {
      "cell_type": "markdown",
      "metadata": {
        "id": "_DSjV5UvpIGO",
        "colab_type": "text"
      },
      "source": [
        "##  Concatenación y Separación de Arrays\n",
        "\n",
        "- Es posible  combinar multiples arrays en uno\n",
        "- Es posible separar un array a multiples arrays"
      ]
    },
    {
      "cell_type": "markdown",
      "metadata": {
        "id": "xCW_Os3_pVss",
        "colab_type": "text"
      },
      "source": [
        "### Concatenación de arrays\n",
        "\n",
        "Concatenacion, o unión de dos arrays en NumPy, se puede hacer con ``np.concatenate``, ``np.vstack``, y ``np.hstack``.\n",
        "``np.concatenate`` toma una tupla o lista de arrays como primer argumento:"
      ]
    },
    {
      "cell_type": "code",
      "metadata": {
        "id": "b7Vue19vpDBq",
        "colab_type": "code",
        "outputId": "fb8e0eba-28e2-4bac-d361-2aa7200d980a",
        "colab": {
          "base_uri": "https://localhost:8080/",
          "height": 35
        }
      },
      "source": [
        "x = np.array([1, 2, 3])\n",
        "y = np.array([3, 2, 1])\n",
        "np.concatenate([x, y])"
      ],
      "execution_count": 0,
      "outputs": [
        {
          "output_type": "execute_result",
          "data": {
            "text/plain": [
              "array([1, 2, 3, 3, 2, 1])"
            ]
          },
          "metadata": {
            "tags": []
          },
          "execution_count": 55
        }
      ]
    },
    {
      "cell_type": "code",
      "metadata": {
        "id": "OyhBf0zgpZoI",
        "colab_type": "code",
        "outputId": "e053c587-218d-4dad-e5c6-7a00da87d2b4",
        "colab": {
          "base_uri": "https://localhost:8080/",
          "height": 35
        }
      },
      "source": [
        "z = [99, 99, 99]\n",
        "print(np.concatenate([x, y, z]))"
      ],
      "execution_count": 0,
      "outputs": [
        {
          "output_type": "stream",
          "text": [
            "[ 1  2  3  3  2  1 99 99 99]\n"
          ],
          "name": "stdout"
        }
      ]
    },
    {
      "cell_type": "code",
      "metadata": {
        "id": "2Vbqb8-3pe_4",
        "colab_type": "code",
        "colab": {}
      },
      "source": [
        "grid = np.array([[1, 2, 3],\n",
        "                 [4, 5, 6]])"
      ],
      "execution_count": 0,
      "outputs": []
    },
    {
      "cell_type": "code",
      "metadata": {
        "id": "MC2JY15vpjly",
        "colab_type": "code",
        "outputId": "cac4ffd3-b882-4062-9044-18708d7c160b",
        "colab": {
          "base_uri": "https://localhost:8080/",
          "height": 90
        }
      },
      "source": [
        "# concatenate along the first axis\n",
        "np.concatenate([grid, grid])"
      ],
      "execution_count": 0,
      "outputs": [
        {
          "output_type": "execute_result",
          "data": {
            "text/plain": [
              "array([[1, 2, 3],\n",
              "       [4, 5, 6],\n",
              "       [1, 2, 3],\n",
              "       [4, 5, 6]])"
            ]
          },
          "metadata": {
            "tags": []
          },
          "execution_count": 58
        }
      ]
    },
    {
      "cell_type": "code",
      "metadata": {
        "id": "RM0JMYQbplkg",
        "colab_type": "code",
        "outputId": "ead3b000-4f62-494a-a54d-4ea51bb203eb",
        "colab": {
          "base_uri": "https://localhost:8080/",
          "height": 54
        }
      },
      "source": [
        "# concatenate along the second axis (zero-indexed)\n",
        "np.concatenate([grid, grid], axis=1)"
      ],
      "execution_count": 0,
      "outputs": [
        {
          "output_type": "execute_result",
          "data": {
            "text/plain": [
              "array([[1, 2, 3, 1, 2, 3],\n",
              "       [4, 5, 6, 4, 5, 6]])"
            ]
          },
          "metadata": {
            "tags": []
          },
          "execution_count": 59
        }
      ]
    },
    {
      "cell_type": "code",
      "metadata": {
        "id": "qOrzNI6tpoyv",
        "colab_type": "code",
        "outputId": "3b03a664-5672-4fe2-8cff-12a640306d2b",
        "colab": {
          "base_uri": "https://localhost:8080/",
          "height": 72
        }
      },
      "source": [
        "x = np.array([1, 2, 3])\n",
        "grid = np.array([[9, 8, 7],\n",
        "                 [6, 5, 4]])\n",
        "\n",
        "# vertically stack the arrays\n",
        "np.vstack([x, grid])"
      ],
      "execution_count": 0,
      "outputs": [
        {
          "output_type": "execute_result",
          "data": {
            "text/plain": [
              "array([[1, 2, 3],\n",
              "       [9, 8, 7],\n",
              "       [6, 5, 4]])"
            ]
          },
          "metadata": {
            "tags": []
          },
          "execution_count": 60
        }
      ]
    },
    {
      "cell_type": "code",
      "metadata": {
        "id": "Qws2LylHpzxw",
        "colab_type": "code",
        "outputId": "e4d9dd56-2024-428c-cb85-b30024a98994",
        "colab": {
          "base_uri": "https://localhost:8080/",
          "height": 54
        }
      },
      "source": [
        "# horizontally stack the arrays\n",
        "y = np.array([[99],\n",
        "              [99]])\n",
        "np.hstack([grid, y])"
      ],
      "execution_count": 0,
      "outputs": [
        {
          "output_type": "execute_result",
          "data": {
            "text/plain": [
              "array([[ 9,  8,  7, 99],\n",
              "       [ 6,  5,  4, 99]])"
            ]
          },
          "metadata": {
            "tags": []
          },
          "execution_count": 61
        }
      ]
    },
    {
      "cell_type": "markdown",
      "metadata": {
        "id": "_BQDRMvfp9JJ",
        "colab_type": "text"
      },
      "source": [
        "### Separación de arrays\n",
        "\n",
        "El opuesto a la concatenación es la sepación, implementada en las funciones ``np.split``, ``np.hsplit``, y ``np.vsplit``.  Para cada una de éstas podemos pasar una lista de índices en donde se quiere hacer la separación:"
      ]
    },
    {
      "cell_type": "code",
      "metadata": {
        "id": "PsbQX-xmp9zs",
        "colab_type": "code",
        "outputId": "61d433bf-d5a5-4c9f-9919-aac1b4eadd0c",
        "colab": {
          "base_uri": "https://localhost:8080/",
          "height": 35
        }
      },
      "source": [
        "x = [1, 2, 3, 99, 99, 3, 2, 1]\n",
        "x1, x2, x3 = np.split(x, [3, 5])\n",
        "print(x1, x2, x3)"
      ],
      "execution_count": 0,
      "outputs": [
        {
          "output_type": "stream",
          "text": [
            "[1 2 3] [99 99] [3 2 1]\n"
          ],
          "name": "stdout"
        }
      ]
    },
    {
      "cell_type": "markdown",
      "metadata": {
        "id": "_54oB8Q8stu2",
        "colab_type": "text"
      },
      "source": [
        "*N* puntos-de-separación, crean *N + 1* subarrays."
      ]
    },
    {
      "cell_type": "code",
      "metadata": {
        "id": "BoR0dCmZp_2B",
        "colab_type": "code",
        "outputId": "e74e35e2-a9de-41f0-d26d-f126b7bed10a",
        "colab": {
          "base_uri": "https://localhost:8080/",
          "height": 90
        }
      },
      "source": [
        "grid = np.arange(16).reshape((4, 4))\n",
        "grid"
      ],
      "execution_count": 0,
      "outputs": [
        {
          "output_type": "execute_result",
          "data": {
            "text/plain": [
              "array([[ 0,  1,  2,  3],\n",
              "       [ 4,  5,  6,  7],\n",
              "       [ 8,  9, 10, 11],\n",
              "       [12, 13, 14, 15]])"
            ]
          },
          "metadata": {
            "tags": []
          },
          "execution_count": 63
        }
      ]
    },
    {
      "cell_type": "code",
      "metadata": {
        "id": "I9b_nJ6cswo7",
        "colab_type": "code",
        "outputId": "b202ffaf-ff6a-4985-b8f5-eed6e878dc04",
        "colab": {
          "base_uri": "https://localhost:8080/",
          "height": 90
        }
      },
      "source": [
        "upper, lower = np.vsplit(grid, [2])\n",
        "print(upper)\n",
        "print(lower)"
      ],
      "execution_count": 0,
      "outputs": [
        {
          "output_type": "stream",
          "text": [
            "[[0 1 2 3]\n",
            " [4 5 6 7]]\n",
            "[[ 8  9 10 11]\n",
            " [12 13 14 15]]\n"
          ],
          "name": "stdout"
        }
      ]
    },
    {
      "cell_type": "code",
      "metadata": {
        "id": "3VmgJzKosz-_",
        "colab_type": "code",
        "outputId": "b7954eef-e7b2-41f7-8adb-5d29ad51cce2",
        "colab": {
          "base_uri": "https://localhost:8080/",
          "height": 163
        }
      },
      "source": [
        "left, right = np.hsplit(grid, [2])\n",
        "print(left)\n",
        "print(right)"
      ],
      "execution_count": 0,
      "outputs": [
        {
          "output_type": "stream",
          "text": [
            "[[ 0  1]\n",
            " [ 4  5]\n",
            " [ 8  9]\n",
            " [12 13]]\n",
            "[[ 2  3]\n",
            " [ 6  7]\n",
            " [10 11]\n",
            " [14 15]]\n"
          ],
          "name": "stdout"
        }
      ]
    },
    {
      "cell_type": "markdown",
      "metadata": {
        "id": "5G6Ck4sTJO_d",
        "colab_type": "text"
      },
      "source": [
        "#01.03 Cálculos con Arrays 1. Ufuncs"
      ]
    },
    {
      "cell_type": "markdown",
      "metadata": {
        "id": "ik6x_reTJT__",
        "colab_type": "text"
      },
      "source": [
        "## Los Loops son Lentooosss"
      ]
    },
    {
      "cell_type": "code",
      "metadata": {
        "id": "bcUev8e5JP--",
        "colab_type": "code",
        "colab": {
          "base_uri": "https://localhost:8080/",
          "height": 35
        },
        "outputId": "cf257914-095f-4017-ea6b-034192e20858"
      },
      "source": [
        "np.random.seed(0)\n",
        "\n",
        "def compute_reciprocals(values):\n",
        "    output = np.empty(len(values))\n",
        "    for i in range(len(values)):\n",
        "        output[i] = 1.0 / values[i]\n",
        "    return output\n",
        "        \n",
        "values = np.random.randint(1, 10, size=5)\n",
        "compute_reciprocals(values)"
      ],
      "execution_count": 2,
      "outputs": [
        {
          "output_type": "execute_result",
          "data": {
            "text/plain": [
              "array([0.16666667, 1.        , 0.25      , 0.25      , 0.125     ])"
            ]
          },
          "metadata": {
            "tags": []
          },
          "execution_count": 2
        }
      ]
    },
    {
      "cell_type": "code",
      "metadata": {
        "id": "h1GqRvZZJZn3",
        "colab_type": "code",
        "colab": {
          "base_uri": "https://localhost:8080/",
          "height": 35
        },
        "outputId": "7d60a985-3781-41ea-8d14-6a974366c41d"
      },
      "source": [
        "big_array = np.random.randint(1, 100, size=1000000)\n",
        "%timeit compute_reciprocals(big_array)"
      ],
      "execution_count": 3,
      "outputs": [
        {
          "output_type": "stream",
          "text": [
            "1 loop, best of 3: 2.28 s per loop\n"
          ],
          "name": "stdout"
        }
      ]
    },
    {
      "cell_type": "markdown",
      "metadata": {
        "id": "SepRRfMEJk8Z",
        "colab_type": "text"
      },
      "source": [
        "## UFuncs\n",
        "\n",
        "Operaciones *vectorizadas*"
      ]
    },
    {
      "cell_type": "code",
      "metadata": {
        "id": "BE1-eYH1Jfe0",
        "colab_type": "code",
        "colab": {
          "base_uri": "https://localhost:8080/",
          "height": 54
        },
        "outputId": "a82216d7-4c78-4bf2-be69-4f23fc34140a"
      },
      "source": [
        "print(compute_reciprocals(values))\n",
        "print(1.0 / values)"
      ],
      "execution_count": 4,
      "outputs": [
        {
          "output_type": "stream",
          "text": [
            "[0.16666667 1.         0.25       0.25       0.125     ]\n",
            "[0.16666667 1.         0.25       0.25       0.125     ]\n"
          ],
          "name": "stdout"
        }
      ]
    },
    {
      "cell_type": "code",
      "metadata": {
        "id": "ALv_s7RiJpPs",
        "colab_type": "code",
        "colab": {
          "base_uri": "https://localhost:8080/",
          "height": 35
        },
        "outputId": "e08ed9e4-e9a9-49c0-d256-bc1b998d35b8"
      },
      "source": [
        "%timeit (1.0 / big_array)"
      ],
      "execution_count": 5,
      "outputs": [
        {
          "output_type": "stream",
          "text": [
            "100 loops, best of 3: 2.72 ms per loop\n"
          ],
          "name": "stdout"
        }
      ]
    },
    {
      "cell_type": "code",
      "metadata": {
        "id": "g3aenP3mJqVU",
        "colab_type": "code",
        "colab": {
          "base_uri": "https://localhost:8080/",
          "height": 35
        },
        "outputId": "5f3e5851-3e65-486b-dd69-c051968f6bdc"
      },
      "source": [
        "np.arange(5) / np.arange(1, 6)"
      ],
      "execution_count": 6,
      "outputs": [
        {
          "output_type": "execute_result",
          "data": {
            "text/plain": [
              "array([0.        , 0.5       , 0.66666667, 0.75      , 0.8       ])"
            ]
          },
          "metadata": {
            "tags": []
          },
          "execution_count": 6
        }
      ]
    },
    {
      "cell_type": "code",
      "metadata": {
        "id": "R7GawPiaJvAO",
        "colab_type": "code",
        "colab": {
          "base_uri": "https://localhost:8080/",
          "height": 72
        },
        "outputId": "114a793e-a371-43a3-c89f-49d8623fa8ed"
      },
      "source": [
        "x = np.arange(9).reshape((3, 3))\n",
        "2 ** x"
      ],
      "execution_count": 7,
      "outputs": [
        {
          "output_type": "execute_result",
          "data": {
            "text/plain": [
              "array([[  1,   2,   4],\n",
              "       [  8,  16,  32],\n",
              "       [ 64, 128, 256]])"
            ]
          },
          "metadata": {
            "tags": []
          },
          "execution_count": 7
        }
      ]
    },
    {
      "cell_type": "markdown",
      "metadata": {
        "id": "9D-iwPuIJzXx",
        "colab_type": "text"
      },
      "source": [
        "Cálculos usando vectorizacion a través de ufuncs son en general más eficientes que la implementación usando loops."
      ]
    },
    {
      "cell_type": "markdown",
      "metadata": {
        "id": "-bi9wyx9J5OH",
        "colab_type": "text"
      },
      "source": [
        "## Exploración de UFuncs\n",
        "\n",
        "Ufuncs: \n",
        "- *unary ufuncs*, operan sobre una sola entrada \n",
        "- *binary ufuncs*, operan sobre dos entradas."
      ]
    },
    {
      "cell_type": "markdown",
      "metadata": {
        "id": "FktbgmukJ-fb",
        "colab_type": "text"
      },
      "source": [
        "### Aritmética de Array \n",
        "\n",
        "Las operaciones aritméticas de adición, substracción, multiplicación y división standard:"
      ]
    },
    {
      "cell_type": "code",
      "metadata": {
        "id": "oC2D5TH5Jv8N",
        "colab_type": "code",
        "colab": {
          "base_uri": "https://localhost:8080/",
          "height": 126
        },
        "outputId": "64fcbcbc-243c-45c2-ee55-a68e1d66bba0"
      },
      "source": [
        "x = np.arange(4)\n",
        "print(\"x     =\", x)\n",
        "print(\"x + 5 =\", x + 5)\n",
        "print(\"x - 5 =\", x - 5)\n",
        "print(\"x * 2 =\", x * 2)\n",
        "print(\"x / 2 =\", x / 2)\n",
        "print(\"x // 2 =\", x // 2)  # floor division"
      ],
      "execution_count": 8,
      "outputs": [
        {
          "output_type": "stream",
          "text": [
            "x     = [0 1 2 3]\n",
            "x + 5 = [5 6 7 8]\n",
            "x - 5 = [-5 -4 -3 -2]\n",
            "x * 2 = [0 2 4 6]\n",
            "x / 2 = [0.  0.5 1.  1.5]\n",
            "x // 2 = [0 0 1 1]\n"
          ],
          "name": "stdout"
        }
      ]
    },
    {
      "cell_type": "markdown",
      "metadata": {
        "id": "WB6C_K5JKUyY",
        "colab_type": "text"
      },
      "source": [
        "Negation, operador de exponencia ``**`` y operador de módulo ``%``:"
      ]
    },
    {
      "cell_type": "code",
      "metadata": {
        "id": "Et2ySOLvJ__J",
        "colab_type": "code",
        "colab": {
          "base_uri": "https://localhost:8080/",
          "height": 72
        },
        "outputId": "44530519-4426-4cc2-9daf-5d8cee13fdb8"
      },
      "source": [
        "print(\"-x     = \", -x)\n",
        "print(\"x ** 2 = \", x ** 2)\n",
        "print(\"x % 2  = \", x % 2)"
      ],
      "execution_count": 9,
      "outputs": [
        {
          "output_type": "stream",
          "text": [
            "-x     =  [ 0 -1 -2 -3]\n",
            "x ** 2 =  [0 1 4 9]\n",
            "x % 2  =  [0 1 0 1]\n"
          ],
          "name": "stdout"
        }
      ]
    },
    {
      "cell_type": "markdown",
      "metadata": {
        "id": "yKLvxHhIKb_o",
        "colab_type": "text"
      },
      "source": [
        "Orden standard de las operaciones:"
      ]
    },
    {
      "cell_type": "code",
      "metadata": {
        "id": "R6yjhXytKXGk",
        "colab_type": "code",
        "colab": {
          "base_uri": "https://localhost:8080/",
          "height": 35
        },
        "outputId": "7892d662-bbf6-4dfb-eb35-f28bfba6f85f"
      },
      "source": [
        "-(0.5*x + 1) ** 2"
      ],
      "execution_count": 11,
      "outputs": [
        {
          "output_type": "execute_result",
          "data": {
            "text/plain": [
              "array([-1.  , -2.25, -4.  , -6.25])"
            ]
          },
          "metadata": {
            "tags": []
          },
          "execution_count": 11
        }
      ]
    },
    {
      "cell_type": "markdown",
      "metadata": {
        "id": "DQsaaRFDKlRF",
        "colab_type": "text"
      },
      "source": [
        "El operador ``+`` es un wrapper para la función ``add``:"
      ]
    },
    {
      "cell_type": "code",
      "metadata": {
        "id": "UYtyo1DXKbaM",
        "colab_type": "code",
        "colab": {
          "base_uri": "https://localhost:8080/",
          "height": 35
        },
        "outputId": "e87f473a-e24e-42ad-fbab-d4ef01f75c50"
      },
      "source": [
        "np.add(x, 2)"
      ],
      "execution_count": 12,
      "outputs": [
        {
          "output_type": "execute_result",
          "data": {
            "text/plain": [
              "array([2, 3, 4, 5])"
            ]
          },
          "metadata": {
            "tags": []
          },
          "execution_count": 12
        }
      ]
    },
    {
      "cell_type": "markdown",
      "metadata": {
        "id": "bqiV-kxCKt0L",
        "colab_type": "text"
      },
      "source": [
        "The siguiente tabla enlista los operadores aritméticos implementados en NumPy:\n",
        "\n",
        "| Operator\t    | Equivalent ufunc    | Description                           |\n",
        "|---------------|---------------------|---------------------------------------|\n",
        "|``+``          |``np.add``           |Addition (e.g., ``1 + 1 = 2``)         |\n",
        "|``-``          |``np.subtract``      |Subtraction (e.g., ``3 - 2 = 1``)      |\n",
        "|``-``          |``np.negative``      |Unary negation (e.g., ``-2``)          |\n",
        "|``*``          |``np.multiply``      |Multiplication (e.g., ``2 * 3 = 6``)   |\n",
        "|``/``          |``np.divide``        |Division (e.g., ``3 / 2 = 1.5``)       |\n",
        "|``//``         |``np.floor_divide``  |Floor division (e.g., ``3 // 2 = 1``)  |\n",
        "|``**``         |``np.power``         |Exponentiation (e.g., ``2 ** 3 = 8``)  |\n",
        "|``%``          |``np.mod``           |Modulus/remainder (e.g., ``9 % 4 = 1``)|\n",
        "\n",
        "Adicionalmente, hay operadores Boolean; exploraremos éstos en [Comparaciones, mascaras y logica booleana](01.06-Boolean-Arrays-and-Masks.ipynb)."
      ]
    },
    {
      "cell_type": "markdown",
      "metadata": {
        "id": "uIUUL2VXK9it",
        "colab_type": "text"
      },
      "source": [
        "### Valor Absoluto"
      ]
    },
    {
      "cell_type": "code",
      "metadata": {
        "id": "thqBTrAaKmsk",
        "colab_type": "code",
        "colab": {
          "base_uri": "https://localhost:8080/",
          "height": 35
        },
        "outputId": "e6be7555-827e-4249-ada1-2bf7101abb95"
      },
      "source": [
        "# Python abs\n",
        "x = np.array([-2, -1, 0, 1, 2])\n",
        "abs(x)"
      ],
      "execution_count": 13,
      "outputs": [
        {
          "output_type": "execute_result",
          "data": {
            "text/plain": [
              "array([2, 1, 0, 1, 2])"
            ]
          },
          "metadata": {
            "tags": []
          },
          "execution_count": 13
        }
      ]
    },
    {
      "cell_type": "code",
      "metadata": {
        "id": "WHndtKBmLBTE",
        "colab_type": "code",
        "colab": {
          "base_uri": "https://localhost:8080/",
          "height": 35
        },
        "outputId": "8e81f1b8-f585-4c96-fa51-07db3f7f9271"
      },
      "source": [
        "np.absolute(x)"
      ],
      "execution_count": 14,
      "outputs": [
        {
          "output_type": "execute_result",
          "data": {
            "text/plain": [
              "array([2, 1, 0, 1, 2])"
            ]
          },
          "metadata": {
            "tags": []
          },
          "execution_count": 14
        }
      ]
    },
    {
      "cell_type": "code",
      "metadata": {
        "id": "d86NXkI3LQYc",
        "colab_type": "code",
        "colab": {
          "base_uri": "https://localhost:8080/",
          "height": 35
        },
        "outputId": "3aea1b96-f4f9-4e6e-bba5-58206a52deff"
      },
      "source": [
        "np.abs(x)"
      ],
      "execution_count": 15,
      "outputs": [
        {
          "output_type": "execute_result",
          "data": {
            "text/plain": [
              "array([2, 1, 0, 1, 2])"
            ]
          },
          "metadata": {
            "tags": []
          },
          "execution_count": 15
        }
      ]
    },
    {
      "cell_type": "markdown",
      "metadata": {
        "id": "m5LiaGdKLV-V",
        "colab_type": "text"
      },
      "source": [
        "Esta ufunc puede operar sobre números complejos:"
      ]
    },
    {
      "cell_type": "code",
      "metadata": {
        "id": "K4IZUCpmLRdb",
        "colab_type": "code",
        "colab": {
          "base_uri": "https://localhost:8080/",
          "height": 35
        },
        "outputId": "2c2a113e-92fc-4009-9d61-b6d085f8bd7e"
      },
      "source": [
        "x = np.array([3 - 4j, 4 - 3j, 2 + 0j, 0 + 1j])\n",
        "np.abs(x)"
      ],
      "execution_count": 16,
      "outputs": [
        {
          "output_type": "execute_result",
          "data": {
            "text/plain": [
              "array([5., 5., 2., 1.])"
            ]
          },
          "metadata": {
            "tags": []
          },
          "execution_count": 16
        }
      ]
    },
    {
      "cell_type": "markdown",
      "metadata": {
        "id": "L1fZuxZRLfJz",
        "colab_type": "text"
      },
      "source": [
        "### Funciones Trigonometricas"
      ]
    },
    {
      "cell_type": "code",
      "metadata": {
        "id": "x9-U_BMOLXm8",
        "colab_type": "code",
        "colab": {}
      },
      "source": [
        "theta = np.linspace(0, np.pi, 3)"
      ],
      "execution_count": 0,
      "outputs": []
    },
    {
      "cell_type": "code",
      "metadata": {
        "id": "opkcNrvZLiDE",
        "colab_type": "code",
        "colab": {
          "base_uri": "https://localhost:8080/",
          "height": 90
        },
        "outputId": "867dd64f-0229-423b-a400-464cac810c55"
      },
      "source": [
        "print(\"theta      = \", theta)\n",
        "print(\"sin(theta) = \", np.sin(theta))\n",
        "print(\"cos(theta) = \", np.cos(theta))\n",
        "print(\"tan(theta) = \", np.tan(theta))"
      ],
      "execution_count": 18,
      "outputs": [
        {
          "output_type": "stream",
          "text": [
            "theta      =  [0.         1.57079633 3.14159265]\n",
            "sin(theta) =  [0.0000000e+00 1.0000000e+00 1.2246468e-16]\n",
            "cos(theta) =  [ 1.000000e+00  6.123234e-17 -1.000000e+00]\n",
            "tan(theta) =  [ 0.00000000e+00  1.63312394e+16 -1.22464680e-16]\n"
          ],
          "name": "stdout"
        }
      ]
    },
    {
      "cell_type": "code",
      "metadata": {
        "id": "RGqv3Z_3LjZ9",
        "colab_type": "code",
        "colab": {
          "base_uri": "https://localhost:8080/",
          "height": 90
        },
        "outputId": "84b1c30e-bf2c-4f56-a6f2-aa7b065b62f8"
      },
      "source": [
        "x = [-1, 0, 1]\n",
        "print(\"x         = \", x)\n",
        "print(\"arcsin(x) = \", np.arcsin(x))\n",
        "print(\"arccos(x) = \", np.arccos(x))\n",
        "print(\"arctan(x) = \", np.arctan(x))"
      ],
      "execution_count": 19,
      "outputs": [
        {
          "output_type": "stream",
          "text": [
            "x         =  [-1, 0, 1]\n",
            "arcsin(x) =  [-1.57079633  0.          1.57079633]\n",
            "arccos(x) =  [3.14159265 1.57079633 0.        ]\n",
            "arctan(x) =  [-0.78539816  0.          0.78539816]\n"
          ],
          "name": "stdout"
        }
      ]
    },
    {
      "cell_type": "markdown",
      "metadata": {
        "id": "1_tS5ZU4LuiY",
        "colab_type": "text"
      },
      "source": [
        "### Exponentes y Logaritmos"
      ]
    },
    {
      "cell_type": "code",
      "metadata": {
        "id": "sV6GqiiaLpNE",
        "colab_type": "code",
        "colab": {
          "base_uri": "https://localhost:8080/",
          "height": 90
        },
        "outputId": "18dcfecb-081c-4693-aaeb-85332d25bc0a"
      },
      "source": [
        "x = [1, 2, 3]\n",
        "print(\"x     =\", x)\n",
        "print(\"e^x   =\", np.exp(x))\n",
        "print(\"2^x   =\", np.exp2(x))\n",
        "print(\"3^x   =\", np.power(3, x))"
      ],
      "execution_count": 20,
      "outputs": [
        {
          "output_type": "stream",
          "text": [
            "x     = [1, 2, 3]\n",
            "e^x   = [ 2.71828183  7.3890561  20.08553692]\n",
            "2^x   = [2. 4. 8.]\n",
            "3^x   = [ 3  9 27]\n"
          ],
          "name": "stdout"
        }
      ]
    },
    {
      "cell_type": "code",
      "metadata": {
        "id": "kcX-6Vy2L0Tc",
        "colab_type": "code",
        "colab": {
          "base_uri": "https://localhost:8080/",
          "height": 90
        },
        "outputId": "606882bf-21bc-456f-a2e7-9e71b0839dcb"
      },
      "source": [
        "x = [1, 2, 4, 10]\n",
        "print(\"x        =\", x)\n",
        "print(\"ln(x)    =\", np.log(x))\n",
        "print(\"log2(x)  =\", np.log2(x))\n",
        "print(\"log10(x) =\", np.log10(x))"
      ],
      "execution_count": 21,
      "outputs": [
        {
          "output_type": "stream",
          "text": [
            "x        = [1, 2, 4, 10]\n",
            "ln(x)    = [0.         0.69314718 1.38629436 2.30258509]\n",
            "log2(x)  = [0.         1.         2.         3.32192809]\n",
            "log10(x) = [0.         0.30103    0.60205999 1.        ]\n"
          ],
          "name": "stdout"
        }
      ]
    },
    {
      "cell_type": "code",
      "metadata": {
        "id": "KM2B1-dDL7Gc",
        "colab_type": "code",
        "colab": {
          "base_uri": "https://localhost:8080/",
          "height": 54
        },
        "outputId": "55c8518e-9440-4147-9155-5c84287aa964"
      },
      "source": [
        "# for small input\n",
        "x = [0, 0.001, 0.01, 0.1]\n",
        "print(\"exp(x) - 1 =\", np.expm1(x))\n",
        "print(\"log(1 + x) =\", np.log1p(x))"
      ],
      "execution_count": 22,
      "outputs": [
        {
          "output_type": "stream",
          "text": [
            "exp(x) - 1 = [0.         0.0010005  0.01005017 0.10517092]\n",
            "log(1 + x) = [0.         0.0009995  0.00995033 0.09531018]\n"
          ],
          "name": "stdout"
        }
      ]
    },
    {
      "cell_type": "markdown",
      "metadata": {
        "id": "tkN97vRRMVuM",
        "colab_type": "text"
      },
      "source": [
        "### Ufuncs especializadas"
      ]
    },
    {
      "cell_type": "code",
      "metadata": {
        "id": "6YPbQkwGMQWV",
        "colab_type": "code",
        "colab": {}
      },
      "source": [
        "from scipy import special"
      ],
      "execution_count": 0,
      "outputs": []
    },
    {
      "cell_type": "code",
      "metadata": {
        "id": "8ZmYhQ30MXwX",
        "colab_type": "code",
        "colab": {
          "base_uri": "https://localhost:8080/",
          "height": 72
        },
        "outputId": "17bba6ba-2668-4ae3-92dc-a187d3da581e"
      },
      "source": [
        "# Gamma functions (generalized factorials) and related functions\n",
        "x = [1, 5, 10]\n",
        "print(\"gamma(x)     =\", special.gamma(x))\n",
        "print(\"ln|gamma(x)| =\", special.gammaln(x))\n",
        "print(\"beta(x, 2)   =\", special.beta(x, 2))"
      ],
      "execution_count": 24,
      "outputs": [
        {
          "output_type": "stream",
          "text": [
            "gamma(x)     = [1.0000e+00 2.4000e+01 3.6288e+05]\n",
            "ln|gamma(x)| = [ 0.          3.17805383 12.80182748]\n",
            "beta(x, 2)   = [0.5        0.03333333 0.00909091]\n"
          ],
          "name": "stdout"
        }
      ]
    },
    {
      "cell_type": "code",
      "metadata": {
        "id": "NQ7Fy50gMa2k",
        "colab_type": "code",
        "colab": {
          "base_uri": "https://localhost:8080/",
          "height": 72
        },
        "outputId": "42f7e005-24cf-4bea-a41e-47f2457d70e8"
      },
      "source": [
        "# Error function (integral of Gaussian)\n",
        "# its complement, and its inverse\n",
        "x = np.array([0, 0.3, 0.7, 1.0])\n",
        "print(\"erf(x)  =\", special.erf(x))\n",
        "print(\"erfc(x) =\", special.erfc(x))\n",
        "print(\"erfinv(x) =\", special.erfinv(x))"
      ],
      "execution_count": 25,
      "outputs": [
        {
          "output_type": "stream",
          "text": [
            "erf(x)  = [0.         0.32862676 0.67780119 0.84270079]\n",
            "erfc(x) = [1.         0.67137324 0.32219881 0.15729921]\n",
            "erfinv(x) = [0.         0.27246271 0.73286908        inf]\n"
          ],
          "name": "stdout"
        }
      ]
    },
    {
      "cell_type": "code",
      "metadata": {
        "id": "QbLcnPbwMqes",
        "colab_type": "code",
        "colab": {}
      },
      "source": [
        ""
      ],
      "execution_count": 0,
      "outputs": []
    },
    {
      "cell_type": "markdown",
      "metadata": {
        "id": "SNQaKMYPMxdo",
        "colab_type": "text"
      },
      "source": [
        "## Propiedades Avanzadas de Ufunc "
      ]
    },
    {
      "cell_type": "markdown",
      "metadata": {
        "id": "hUrgB2ppM4IH",
        "colab_type": "text"
      },
      "source": [
        "### Especificando la salida\n",
        "\n",
        "Todas las ufuncs pueden usar el argumento ``out`` para indicar donde asignar el resultado"
      ]
    },
    {
      "cell_type": "code",
      "metadata": {
        "id": "6IwVLrYmMzp0",
        "colab_type": "code",
        "colab": {
          "base_uri": "https://localhost:8080/",
          "height": 35
        },
        "outputId": "fa915cb5-b98e-4710-fbe3-cd3856995405"
      },
      "source": [
        "x = np.arange(5)\n",
        "y = np.empty(5)\n",
        "np.multiply(x, 10, out=y)\n",
        "print(y)"
      ],
      "execution_count": 26,
      "outputs": [
        {
          "output_type": "stream",
          "text": [
            "[ 0. 10. 20. 30. 40.]\n"
          ],
          "name": "stdout"
        }
      ]
    },
    {
      "cell_type": "code",
      "metadata": {
        "id": "I4P56dSgM-uL",
        "colab_type": "code",
        "colab": {
          "base_uri": "https://localhost:8080/",
          "height": 35
        },
        "outputId": "99e0167d-aabd-42b3-9315-59a39964d3a3"
      },
      "source": [
        "y = np.zeros(10)\n",
        "np.power(2, x, out=y[::2])\n",
        "print(y)"
      ],
      "execution_count": 27,
      "outputs": [
        {
          "output_type": "stream",
          "text": [
            "[ 1.  0.  2.  0.  4.  0.  8.  0. 16.  0.]\n"
          ],
          "name": "stdout"
        }
      ]
    },
    {
      "cell_type": "code",
      "metadata": {
        "id": "HfJKsB93NFwF",
        "colab_type": "code",
        "colab": {}
      },
      "source": [
        "# lo mismo pero crea un array temporal para guardar el resultado de 2**x, \n",
        "# seguido de una segunda operacion que copia esos valores a y \n",
        "# que puede ser costoso para arrays grandes\n",
        "y = np.zeros(10)\n",
        "y[::2] = 2**x"
      ],
      "execution_count": 0,
      "outputs": []
    },
    {
      "cell_type": "markdown",
      "metadata": {
        "id": "6phL8MqRNSg_",
        "colab_type": "text"
      },
      "source": [
        "### Agregaciones"
      ]
    },
    {
      "cell_type": "code",
      "metadata": {
        "id": "x2rqmco8NND9",
        "colab_type": "code",
        "colab": {
          "base_uri": "https://localhost:8080/",
          "height": 35
        },
        "outputId": "6685c166-b97f-452f-ad96-d0191ca98cce"
      },
      "source": [
        "x = np.arange(1, 6)\n",
        "np.add.reduce(x)"
      ],
      "execution_count": 30,
      "outputs": [
        {
          "output_type": "execute_result",
          "data": {
            "text/plain": [
              "15"
            ]
          },
          "metadata": {
            "tags": []
          },
          "execution_count": 30
        }
      ]
    },
    {
      "cell_type": "code",
      "metadata": {
        "id": "GFYK7BgDNaFu",
        "colab_type": "code",
        "colab": {
          "base_uri": "https://localhost:8080/",
          "height": 35
        },
        "outputId": "82f880fc-2e03-4a3b-c917-025d690861a6"
      },
      "source": [
        "np.multiply.reduce(x)"
      ],
      "execution_count": 31,
      "outputs": [
        {
          "output_type": "execute_result",
          "data": {
            "text/plain": [
              "120"
            ]
          },
          "metadata": {
            "tags": []
          },
          "execution_count": 31
        }
      ]
    },
    {
      "cell_type": "code",
      "metadata": {
        "id": "JVwOxJ1DNd9l",
        "colab_type": "code",
        "colab": {
          "base_uri": "https://localhost:8080/",
          "height": 35
        },
        "outputId": "0531c77f-a8d0-4cd3-a953-335e498963f9"
      },
      "source": [
        "np.add.accumulate(x)"
      ],
      "execution_count": 32,
      "outputs": [
        {
          "output_type": "execute_result",
          "data": {
            "text/plain": [
              "array([ 1,  3,  6, 10, 15])"
            ]
          },
          "metadata": {
            "tags": []
          },
          "execution_count": 32
        }
      ]
    },
    {
      "cell_type": "code",
      "metadata": {
        "id": "46TztwGKNhwF",
        "colab_type": "code",
        "colab": {
          "base_uri": "https://localhost:8080/",
          "height": 35
        },
        "outputId": "d517d03b-fd45-4a87-8329-dd62324a0f03"
      },
      "source": [
        "np.multiply.accumulate(x)"
      ],
      "execution_count": 33,
      "outputs": [
        {
          "output_type": "execute_result",
          "data": {
            "text/plain": [
              "array([  1,   2,   6,  24, 120])"
            ]
          },
          "metadata": {
            "tags": []
          },
          "execution_count": 33
        }
      ]
    },
    {
      "cell_type": "markdown",
      "metadata": {
        "id": "WzqKM0xiNqb4",
        "colab_type": "text"
      },
      "source": [
        "### Productos exteriores"
      ]
    },
    {
      "cell_type": "code",
      "metadata": {
        "id": "cS8EREOwNkXE",
        "colab_type": "code",
        "colab": {
          "base_uri": "https://localhost:8080/",
          "height": 108
        },
        "outputId": "63196402-b5c3-4ac4-8ec9-5623ca821c6f"
      },
      "source": [
        "x = np.arange(1, 6)\n",
        "np.multiply.outer(x, x)"
      ],
      "execution_count": 34,
      "outputs": [
        {
          "output_type": "execute_result",
          "data": {
            "text/plain": [
              "array([[ 1,  2,  3,  4,  5],\n",
              "       [ 2,  4,  6,  8, 10],\n",
              "       [ 3,  6,  9, 12, 15],\n",
              "       [ 4,  8, 12, 16, 20],\n",
              "       [ 5, 10, 15, 20, 25]])"
            ]
          },
          "metadata": {
            "tags": []
          },
          "execution_count": 34
        }
      ]
    },
    {
      "cell_type": "markdown",
      "metadata": {
        "id": "YRfqELiAN3mt",
        "colab_type": "text"
      },
      "source": [
        "## Ufuncs: Más información\n",
        "Más información sobre las funciones universales puede consultarse en la documentación de [NumPy](http://www.numpy.org) y [SciPy](http://www.scipy.org)."
      ]
    },
    {
      "cell_type": "markdown",
      "metadata": {
        "id": "IguWdHmPWqiv",
        "colab_type": "text"
      },
      "source": [
        "#01.04 Computation on arrays aggregates,  Agregaciones: Min, Max, etc."
      ]
    },
    {
      "cell_type": "markdown",
      "metadata": {
        "id": "ss_7ySOCW6K3",
        "colab_type": "text"
      },
      "source": [
        "## Sumando los Valores de un Array"
      ]
    },
    {
      "cell_type": "code",
      "metadata": {
        "id": "_swn7vq5Wwa4",
        "colab_type": "code",
        "colab": {
          "base_uri": "https://localhost:8080/",
          "height": 35
        },
        "outputId": "c28189f7-fdb9-4682-dfd6-6da2dde4019a"
      },
      "source": [
        "L = np.random.random(100)\n",
        "sum(L)"
      ],
      "execution_count": 35,
      "outputs": [
        {
          "output_type": "execute_result",
          "data": {
            "text/plain": [
              "50.461758453195614"
            ]
          },
          "metadata": {
            "tags": []
          },
          "execution_count": 35
        }
      ]
    },
    {
      "cell_type": "code",
      "metadata": {
        "id": "CDxHLhBnW8yu",
        "colab_type": "code",
        "colab": {
          "base_uri": "https://localhost:8080/",
          "height": 35
        },
        "outputId": "294e41fe-1cce-4907-e975-b748d4de0746"
      },
      "source": [
        "np.sum(L)"
      ],
      "execution_count": 36,
      "outputs": [
        {
          "output_type": "execute_result",
          "data": {
            "text/plain": [
              "50.46175845319564"
            ]
          },
          "metadata": {
            "tags": []
          },
          "execution_count": 36
        }
      ]
    },
    {
      "cell_type": "code",
      "metadata": {
        "id": "5wkUdCVkW_9-",
        "colab_type": "code",
        "colab": {
          "base_uri": "https://localhost:8080/",
          "height": 54
        },
        "outputId": "8b9fc348-edca-4449-b24a-869c75f97856"
      },
      "source": [
        "big_array = np.random.rand(1000000)\n",
        "%timeit sum(big_array)\n",
        "%timeit np.sum(big_array)"
      ],
      "execution_count": 37,
      "outputs": [
        {
          "output_type": "stream",
          "text": [
            "10 loops, best of 3: 162 ms per loop\n",
            "1000 loops, best of 3: 352 µs per loop\n"
          ],
          "name": "stdout"
        }
      ]
    },
    {
      "cell_type": "markdown",
      "metadata": {
        "id": "S5NuaH5TXHey",
        "colab_type": "text"
      },
      "source": [
        "## Minimo y Maximo"
      ]
    },
    {
      "cell_type": "code",
      "metadata": {
        "id": "t49ScWRDXBqe",
        "colab_type": "code",
        "colab": {
          "base_uri": "https://localhost:8080/",
          "height": 35
        },
        "outputId": "87490317-cd5d-4f89-86e1-4be0b43bc132"
      },
      "source": [
        "min(big_array), max(big_array)"
      ],
      "execution_count": 38,
      "outputs": [
        {
          "output_type": "execute_result",
          "data": {
            "text/plain": [
              "(7.071203171893359e-07, 0.9999997207656334)"
            ]
          },
          "metadata": {
            "tags": []
          },
          "execution_count": 38
        }
      ]
    },
    {
      "cell_type": "code",
      "metadata": {
        "id": "Adk-y-JcXJtd",
        "colab_type": "code",
        "colab": {
          "base_uri": "https://localhost:8080/",
          "height": 35
        },
        "outputId": "346fc37e-55a2-48a7-88a1-ee9574f1ed89"
      },
      "source": [
        "np.min(big_array), np.max(big_array)"
      ],
      "execution_count": 39,
      "outputs": [
        {
          "output_type": "execute_result",
          "data": {
            "text/plain": [
              "(7.071203171893359e-07, 0.9999997207656334)"
            ]
          },
          "metadata": {
            "tags": []
          },
          "execution_count": 39
        }
      ]
    },
    {
      "cell_type": "code",
      "metadata": {
        "id": "5yujnC3XXMhd",
        "colab_type": "code",
        "colab": {
          "base_uri": "https://localhost:8080/",
          "height": 54
        },
        "outputId": "16d0e528-308e-4154-fe33-1cd7e171a9bb"
      },
      "source": [
        "%timeit min(big_array)\n",
        "%timeit np.min(big_array)"
      ],
      "execution_count": 40,
      "outputs": [
        {
          "output_type": "stream",
          "text": [
            "10 loops, best of 3: 95.2 ms per loop\n",
            "1000 loops, best of 3: 414 µs per loop\n"
          ],
          "name": "stdout"
        }
      ]
    },
    {
      "cell_type": "code",
      "metadata": {
        "id": "ZKioEdWZXPoV",
        "colab_type": "code",
        "colab": {
          "base_uri": "https://localhost:8080/",
          "height": 35
        },
        "outputId": "f56a39c5-c42c-4639-d1f7-9e81d07c2a2e"
      },
      "source": [
        "print(big_array.min(), big_array.max(), big_array.sum())"
      ],
      "execution_count": 41,
      "outputs": [
        {
          "output_type": "stream",
          "text": [
            "7.071203171893359e-07 0.9999997207656334 500216.8034810001\n"
          ],
          "name": "stdout"
        }
      ]
    },
    {
      "cell_type": "markdown",
      "metadata": {
        "id": "x09xItoSXaI0",
        "colab_type": "text"
      },
      "source": [
        "### Agregaciones multi dimensionales"
      ]
    },
    {
      "cell_type": "code",
      "metadata": {
        "id": "7pmDpq7cXUv2",
        "colab_type": "code",
        "colab": {
          "base_uri": "https://localhost:8080/",
          "height": 72
        },
        "outputId": "947c7f81-7d2c-475a-c71f-1c73a5aa5479"
      },
      "source": [
        "M = np.random.random((3, 4))\n",
        "print(M)"
      ],
      "execution_count": 42,
      "outputs": [
        {
          "output_type": "stream",
          "text": [
            "[[0.79832448 0.44923861 0.95274259 0.03193135]\n",
            " [0.18441813 0.71417358 0.76371195 0.11957117]\n",
            " [0.37578601 0.11936151 0.37497044 0.22944653]]\n"
          ],
          "name": "stdout"
        }
      ]
    },
    {
      "cell_type": "code",
      "metadata": {
        "id": "_7JcWMwOXcQV",
        "colab_type": "code",
        "colab": {
          "base_uri": "https://localhost:8080/",
          "height": 35
        },
        "outputId": "3b50b74b-6597-4180-82d4-aee4ea1222ce"
      },
      "source": [
        "M.sum()"
      ],
      "execution_count": 43,
      "outputs": [
        {
          "output_type": "execute_result",
          "data": {
            "text/plain": [
              "5.1136763453287335"
            ]
          },
          "metadata": {
            "tags": []
          },
          "execution_count": 43
        }
      ]
    },
    {
      "cell_type": "code",
      "metadata": {
        "id": "FPm-k__aXd_B",
        "colab_type": "code",
        "colab": {
          "base_uri": "https://localhost:8080/",
          "height": 35
        },
        "outputId": "4565f627-4daf-48f9-f1ca-f6c6fd201049"
      },
      "source": [
        "M.min(axis=0)"
      ],
      "execution_count": 44,
      "outputs": [
        {
          "output_type": "execute_result",
          "data": {
            "text/plain": [
              "array([0.18441813, 0.11936151, 0.37497044, 0.03193135])"
            ]
          },
          "metadata": {
            "tags": []
          },
          "execution_count": 44
        }
      ]
    },
    {
      "cell_type": "code",
      "metadata": {
        "id": "3hXIZ2BVXfrG",
        "colab_type": "code",
        "colab": {
          "base_uri": "https://localhost:8080/",
          "height": 35
        },
        "outputId": "d4046282-9bb9-4e1e-b775-597b2aadda87"
      },
      "source": [
        "M.max(axis=1)"
      ],
      "execution_count": 45,
      "outputs": [
        {
          "output_type": "execute_result",
          "data": {
            "text/plain": [
              "array([0.95274259, 0.76371195, 0.37578601])"
            ]
          },
          "metadata": {
            "tags": []
          },
          "execution_count": 45
        }
      ]
    },
    {
      "cell_type": "markdown",
      "metadata": {
        "id": "PF4tuD1zXlt7",
        "colab_type": "text"
      },
      "source": [
        "### Otras funciones de agregación\n",
        "\n",
        "The following table provides a list of useful aggregation functions available in NumPy:\n",
        "\n",
        "|Function Name      |   NaN-safe Version  | Description                                   |\n",
        "|-------------------|---------------------|-----------------------------------------------|\n",
        "| ``np.sum``        | ``np.nansum``       | Compute sum of elements                       |\n",
        "| ``np.prod``       | ``np.nanprod``      | Compute product of elements                   |\n",
        "| ``np.mean``       | ``np.nanmean``      | Compute mean of elements                      |\n",
        "| ``np.std``        | ``np.nanstd``       | Compute standard deviation                    |\n",
        "| ``np.var``        | ``np.nanvar``       | Compute variance                              |\n",
        "| ``np.min``        | ``np.nanmin``       | Find minimum value                            |\n",
        "| ``np.max``        | ``np.nanmax``       | Find maximum value                            |\n",
        "| ``np.argmin``     | ``np.nanargmin``    | Find index of minimum value                   |\n",
        "| ``np.argmax``     | ``np.nanargmax``    | Find index of maximum value                   |\n",
        "| ``np.median``     | ``np.nanmedian``    | Compute median of elements                    |\n",
        "| ``np.percentile`` | ``np.nanpercentile``| Compute rank-based statistics of elements     |\n",
        "| ``np.any``        | N/A                 | Evaluate whether any elements are true        |\n",
        "| ``np.all``        | N/A                 | Evaluate whether all elements are true        |\n",
        "\n",
        "We will see these aggregates often throughout the rest of the book."
      ]
    },
    {
      "cell_type": "markdown",
      "metadata": {
        "id": "SNNudvd1XsQI",
        "colab_type": "text"
      },
      "source": [
        "## Ejemplo: Altura promedio de los presidentes"
      ]
    },
    {
      "cell_type": "code",
      "metadata": {
        "id": "JkWaPbeJXhce",
        "colab_type": "code",
        "colab": {}
      },
      "source": [
        "import pandas as pd\n",
        "url = \"https://raw.githubusercontent.com/JosueJuarez/TallerPythonIntroCienciaDatos/master/notebooks/data/president_heights.csv\"\n",
        "#names = ['order', 'name', 'height(cm)']\n",
        "data = pd.read_csv(url, sep=',')"
      ],
      "execution_count": 0,
      "outputs": []
    },
    {
      "cell_type": "code",
      "metadata": {
        "id": "Zu4HQPfVYm9Q",
        "colab_type": "code",
        "colab": {
          "base_uri": "https://localhost:8080/",
          "height": 138
        },
        "outputId": "cd455ac2-3bb4-4562-8bca-6ed1bcfb4639"
      },
      "source": [
        "data.head(3)"
      ],
      "execution_count": 60,
      "outputs": [
        {
          "output_type": "execute_result",
          "data": {
            "text/html": [
              "<div>\n",
              "<style scoped>\n",
              "    .dataframe tbody tr th:only-of-type {\n",
              "        vertical-align: middle;\n",
              "    }\n",
              "\n",
              "    .dataframe tbody tr th {\n",
              "        vertical-align: top;\n",
              "    }\n",
              "\n",
              "    .dataframe thead th {\n",
              "        text-align: right;\n",
              "    }\n",
              "</style>\n",
              "<table border=\"1\" class=\"dataframe\">\n",
              "  <thead>\n",
              "    <tr style=\"text-align: right;\">\n",
              "      <th></th>\n",
              "      <th>order</th>\n",
              "      <th>name</th>\n",
              "      <th>height(cm)</th>\n",
              "    </tr>\n",
              "  </thead>\n",
              "  <tbody>\n",
              "    <tr>\n",
              "      <th>0</th>\n",
              "      <td>1</td>\n",
              "      <td>George Washington</td>\n",
              "      <td>189</td>\n",
              "    </tr>\n",
              "    <tr>\n",
              "      <th>1</th>\n",
              "      <td>2</td>\n",
              "      <td>John Adams</td>\n",
              "      <td>170</td>\n",
              "    </tr>\n",
              "    <tr>\n",
              "      <th>2</th>\n",
              "      <td>3</td>\n",
              "      <td>Thomas Jefferson</td>\n",
              "      <td>189</td>\n",
              "    </tr>\n",
              "  </tbody>\n",
              "</table>\n",
              "</div>"
            ],
            "text/plain": [
              "   order               name  height(cm)\n",
              "0      1  George Washington         189\n",
              "1      2         John Adams         170\n",
              "2      3   Thomas Jefferson         189"
            ]
          },
          "metadata": {
            "tags": []
          },
          "execution_count": 60
        }
      ]
    },
    {
      "cell_type": "code",
      "metadata": {
        "id": "uvhA4lK5ZaC3",
        "colab_type": "code",
        "colab": {
          "base_uri": "https://localhost:8080/",
          "height": 72
        },
        "outputId": "d65b8d13-22e3-4df0-ad3c-d23e7fd1e094"
      },
      "source": [
        "heights = np.array(data['height(cm)'])\n",
        "print(heights)"
      ],
      "execution_count": 61,
      "outputs": [
        {
          "output_type": "stream",
          "text": [
            "[189 170 189 163 183 171 185 168 173 183 173 173 175 178 183 193 178 173\n",
            " 174 183 183 168 170 178 182 180 183 178 182 188 175 179 183 193 182 183\n",
            " 177 185 188 188 182 185]\n"
          ],
          "name": "stdout"
        }
      ]
    },
    {
      "cell_type": "code",
      "metadata": {
        "id": "2g2uM7Vjd5nW",
        "colab_type": "code",
        "colab": {
          "base_uri": "https://localhost:8080/",
          "height": 90
        },
        "outputId": "32cc0d7e-ea18-4bd4-cf29-79e9db0ef703"
      },
      "source": [
        "print(\"Mean height:       \", heights.mean())\n",
        "print(\"Standard deviation:\", heights.std())\n",
        "print(\"Minimum height:    \", heights.min())\n",
        "print(\"Maximum height:    \", heights.max())"
      ],
      "execution_count": 62,
      "outputs": [
        {
          "output_type": "stream",
          "text": [
            "Mean height:        179.73809523809524\n",
            "Standard deviation: 6.931843442745892\n",
            "Minimum height:     163\n",
            "Maximum height:     193\n"
          ],
          "name": "stdout"
        }
      ]
    },
    {
      "cell_type": "code",
      "metadata": {
        "id": "YeWUsW-Kd8Nh",
        "colab_type": "code",
        "colab": {
          "base_uri": "https://localhost:8080/",
          "height": 72
        },
        "outputId": "db86fc5f-6899-488a-9510-3ae67cdb5842"
      },
      "source": [
        "print(\"25th percentile:   \", np.percentile(heights, 25))\n",
        "print(\"Median:            \", np.median(heights))\n",
        "print(\"75th percentile:   \", np.percentile(heights, 75))"
      ],
      "execution_count": 63,
      "outputs": [
        {
          "output_type": "stream",
          "text": [
            "25th percentile:    174.25\n",
            "Median:             182.0\n",
            "75th percentile:    183.0\n"
          ],
          "name": "stdout"
        }
      ]
    },
    {
      "cell_type": "code",
      "metadata": {
        "id": "mo57DB7Qd_Ou",
        "colab_type": "code",
        "colab": {}
      },
      "source": [
        "%matplotlib inline\n",
        "import matplotlib.pyplot as plt\n",
        "import seaborn; seaborn.set()  # set plot style"
      ],
      "execution_count": 0,
      "outputs": []
    },
    {
      "cell_type": "code",
      "metadata": {
        "id": "8AS9ICW6eFUv",
        "colab_type": "code",
        "colab": {
          "base_uri": "https://localhost:8080/",
          "height": 301
        },
        "outputId": "23262194-a8fd-46a0-d4b7-1e3b94bdcf6b"
      },
      "source": [
        "plt.hist(heights)\n",
        "plt.title('Height Distribution of US Presidents')\n",
        "plt.xlabel('height (cm)')\n",
        "plt.ylabel('number');"
      ],
      "execution_count": 65,
      "outputs": [
        {
          "output_type": "display_data",
          "data": {
            "image/png": "[encoded data removed]",
            "text/plain": [
              "<Figure size 432x288 with 1 Axes>"
            ]
          },
          "metadata": {
            "tags": []
          }
        }
      ]
    }
  ]
}